{
 "cells": [
  {
   "cell_type": "code",
   "execution_count": 1,
   "metadata": {},
   "outputs": [
    {
     "name": "stdout",
     "output_type": "stream",
     "text": [
      "Populating the interactive namespace from numpy and matplotlib\n",
      "Populating the interactive namespace from numpy and matplotlib\n",
      "These are the instruments available:\n",
      "\n",
      "GW INSTEK,AFG-2225,SN:GEQ904866,V2.05\n",
      "\n",
      "GW,GDS-3254,GEQ110185,V1.25\n",
      "\n",
      "done printing available instruments\n",
      "GW,GDS-3254,GEQ110185,V1.25\n",
      "\n",
      "GW INSTEK,AFG-2225,SN:GEQ904866,V2.05\n",
      "\n"
     ]
    }
   ],
   "source": [
    "### reference 170901_observe_digital_wave\n",
    "%pylab inline\n",
    "%load_ext pyspecdata.ipy\n",
    "from Instruments import *\n",
    "from pyspecdata import *\n",
    "import time\n",
    "from serial.tools.list_ports import comports\n",
    "import serial\n",
    "from scipy import signal\n",
    "\n",
    "print \"These are the instruments available:\"\n",
    "SerialInstrument(None)\n",
    "print \"done printing available instruments\"\n",
    "\n",
    "with SerialInstrument('GDS-3254') as s:\n",
    "    print s.respond('*idn?')\n",
    "    \n",
    "with SerialInstrument('AFG-2225') as s:\n",
    "    print s.respond('*idn?')"
   ]
  },
  {
   "cell_type": "code",
   "execution_count": 2,
   "metadata": {},
   "outputs": [
    {
     "name": "stdout",
     "output_type": "stream",
     "text": [
      "The frequency is"
     ]
    },
    {
     "ename": "ValueError",
     "evalue": "invalid literal for int() with base 10: '+1.0000000000000E+02\\r\\n'",
     "output_type": "error",
     "traceback": [
      "\u001b[1;31m\u001b[0m",
      "\u001b[1;31mValueError\u001b[0mTraceback (most recent call last)",
      "\u001b[1;32m<ipython-input-2-e8d662b9b5bd>\u001b[0m in \u001b[0;36m<module>\u001b[1;34m()\u001b[0m\n\u001b[0;32m     11\u001b[0m     \u001b[1;31m#in the new array container, now assign 3 and -3 to each alternating index\u001b[0m\u001b[1;33m\u001b[0m\u001b[1;33m\u001b[0m\u001b[0m\n\u001b[0;32m     12\u001b[0m     \u001b[0ma\u001b[0m\u001b[1;33m.\u001b[0m\u001b[0mdigital_ndarray\u001b[0m\u001b[1;33m(\u001b[0m\u001b[0my\u001b[0m\u001b[1;33m)\u001b[0m\u001b[1;33m\u001b[0m\u001b[0m\n\u001b[1;32m---> 13\u001b[1;33m     \u001b[1;32mprint\u001b[0m \u001b[1;34m\"The frequency is\"\u001b[0m\u001b[1;33m,\u001b[0m\u001b[0ma\u001b[0m\u001b[1;33m.\u001b[0m\u001b[0mCH1\u001b[0m\u001b[1;33m.\u001b[0m\u001b[0mfreq\u001b[0m\u001b[1;33m\u001b[0m\u001b[0m\n\u001b[0m\u001b[0;32m     14\u001b[0m     \u001b[1;32mprint\u001b[0m \u001b[1;34m\"CH1 burst set to\"\u001b[0m\u001b[1;33m,\u001b[0m\u001b[0ma\u001b[0m\u001b[1;33m.\u001b[0m\u001b[0mCH1\u001b[0m\u001b[1;33m.\u001b[0m\u001b[0mburst\u001b[0m\u001b[1;33m\u001b[0m\u001b[0m\n\u001b[0;32m     15\u001b[0m     \u001b[1;32mprint\u001b[0m \u001b[1;34m\"now, burst on\"\u001b[0m\u001b[1;33m\u001b[0m\u001b[0m\n",
      "\u001b[1;32mH:\\git\\inst_notebooks\\Instruments\\afg.py\u001b[0m in \u001b[0;36mfreq\u001b[1;34m(self)\u001b[0m\n\u001b[0;32m     38\u001b[0m         \"\"\"\n\u001b[0;32m     39\u001b[0m         \u001b[0mcmd\u001b[0m \u001b[1;33m=\u001b[0m \u001b[1;34m'SOUR%d:FREQ?'\u001b[0m\u001b[1;33m%\u001b[0m\u001b[0mself\u001b[0m\u001b[1;33m.\u001b[0m\u001b[0mch\u001b[0m\u001b[1;33m\u001b[0m\u001b[0m\n\u001b[1;32m---> 40\u001b[1;33m         \u001b[1;32mreturn\u001b[0m \u001b[0mbool\u001b[0m\u001b[1;33m(\u001b[0m\u001b[0mint\u001b[0m\u001b[1;33m(\u001b[0m\u001b[0mself\u001b[0m\u001b[1;33m.\u001b[0m\u001b[0mafg\u001b[0m\u001b[1;33m.\u001b[0m\u001b[0mrespond\u001b[0m\u001b[1;33m(\u001b[0m\u001b[0mcmd\u001b[0m\u001b[1;33m)\u001b[0m\u001b[1;33m)\u001b[0m\u001b[1;33m)\u001b[0m\u001b[1;33m\u001b[0m\u001b[0m\n\u001b[0m\u001b[0;32m     41\u001b[0m     \u001b[1;33m@\u001b[0m\u001b[0mfreq\u001b[0m\u001b[1;33m.\u001b[0m\u001b[0msetter\u001b[0m\u001b[1;33m\u001b[0m\u001b[0m\n\u001b[0;32m     42\u001b[0m     \u001b[1;32mdef\u001b[0m \u001b[0mfreq\u001b[0m\u001b[1;33m(\u001b[0m\u001b[0mself\u001b[0m\u001b[1;33m,\u001b[0m\u001b[0mf\u001b[0m\u001b[1;33m)\u001b[0m\u001b[1;33m:\u001b[0m\u001b[1;33m\u001b[0m\u001b[0m\n",
      "\u001b[1;31mValueError\u001b[0m: invalid literal for int() with base 10: '+1.0000000000000E+02\\r\\n'"
     ]
    }
   ],
   "source": [
    "with AFG() as a:\n",
    "    a.reset()\n",
    "    x = r_[-6:6:200j]\n",
    "    y = zeros_like(x)\n",
    "    #create duplicate of x as an array container and fill each index with 0\n",
    "    y[0::4]=0\n",
    "    y[1::4]=1\n",
    "    y[2::4]=0\n",
    "    y[3::4]=-1\n",
    "    y[-1]=0\n",
    "    #in the new array container, now assign 3 and -3 to each alternating index\n",
    "    a.CH1.digital_ndarray(y)\n",
    "    print \"The frequency is\",a.CH1.freq\n",
    "    print \"CH1 burst set to\",a.CH1.burst\n",
    "    print \"now, burst on\"\n",
    "    a.CH1.burst = True\n",
    "    print \"CH1 burst set to\",a.CH1.burst\n",
    "    print \"now, output on\"\n",
    "    a.CH1.output = True\n",
    "    #ch=1\n",
    "    #print a.respond('SOUR%d:FUNC?'%ch)\n",
    "    #print a.respond('SOUR%d:FREQ?'%ch)\n",
    "    #print a.respond('SOUR%d:APPL?'%ch)\n",
    "    #print a.demand('SOUR%d:FREQ MAX'%ch,'')"
   ]
  },
  {
   "cell_type": "code",
   "execution_count": null,
   "metadata": {
    "collapsed": true
   },
   "outputs": [],
   "source": [
    "print x"
   ]
  },
  {
   "cell_type": "code",
   "execution_count": null,
   "metadata": {
    "collapsed": true
   },
   "outputs": [],
   "source": [
    "200./120e6"
   ]
  },
  {
   "cell_type": "code",
   "execution_count": null,
   "metadata": {},
   "outputs": [],
   "source": [
    "#rate = pts * freq\n",
    "(80e6)/240"
   ]
  },
  {
   "cell_type": "code",
   "execution_count": null,
   "metadata": {},
   "outputs": [],
   "source": [
    "with GDS_scope() as g:\n",
    "    data = g.waveform(ch=2)\n",
    "data"
   ]
  },
  {
   "cell_type": "code",
   "execution_count": null,
   "metadata": {},
   "outputs": [],
   "source": [
    "with GDS_scope() as g:\n",
    "    data2 = g.waveform(ch=2)\n",
    "data2\n",
    "plot(data2)\n",
    "ylim(-1,1)\n",
    "xlim(0.000003,0.000007)\n"
   ]
  },
  {
   "cell_type": "code",
   "execution_count": null,
   "metadata": {},
   "outputs": [],
   "source": [
    "with GDS_scope() as g:\n",
    "    data3 = g.waveform(ch=2)\n",
    "data3\n",
    "plot(data3)\n",
    "ylim(-1,1)\n",
    "xlim(0.000004,0.0000045)"
   ]
  },
  {
   "cell_type": "code",
   "execution_count": null,
   "metadata": {
    "collapsed": true
   },
   "outputs": [],
   "source": []
  }
 ],
 "metadata": {
  "kernelspec": {
   "display_name": "Python 2",
   "language": "python",
   "name": "python2"
  },
  "language_info": {
   "codemirror_mode": {
    "name": "ipython",
    "version": 2
   },
   "file_extension": ".py",
   "mimetype": "text/x-python",
   "name": "python",
   "nbconvert_exporter": "python",
   "pygments_lexer": "ipython2",
   "version": "2.7.13"
  }
 },
 "nbformat": 4,
 "nbformat_minor": 2
}
