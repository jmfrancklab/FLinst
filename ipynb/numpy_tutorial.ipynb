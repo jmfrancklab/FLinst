{
 "cells": [
  {
   "cell_type": "code",
   "execution_count": 1,
   "metadata": {},
   "outputs": [
    {
     "name": "stdout",
     "output_type": "stream",
     "text": [
      "Populating the interactive namespace from numpy and matplotlib\n"
     ]
    }
   ],
   "source": [
    "%pylab inline\n",
    "import numpy as np\n",
    "from numpy import pi"
   ]
  },
  {
   "cell_type": "code",
   "execution_count": 2,
   "metadata": {},
   "outputs": [
    {
     "data": {
      "text/plain": [
       "1.0"
      ]
     },
     "execution_count": 2,
     "metadata": {},
     "output_type": "execute_result"
    }
   ],
   "source": [
    "np.sin(pi/2.)"
   ]
  },
  {
   "cell_type": "code",
   "execution_count": 3,
   "metadata": {},
   "outputs": [
    {
     "data": {
      "text/plain": [
       "array([ 0.        ,  0.5       ,  0.70710678,  0.8660254 ,  1.        ])"
      ]
     },
     "execution_count": 3,
     "metadata": {},
     "output_type": "execute_result"
    }
   ],
   "source": [
    "np.sin(np.array((0.,30.,45.,60.,90.))*pi/180)"
   ]
  },
  {
   "cell_type": "code",
   "execution_count": null,
   "metadata": {
    "collapsed": true
   },
   "outputs": [],
   "source": []
  },
  {
   "cell_type": "code",
   "execution_count": 4,
   "metadata": {
    "collapsed": true
   },
   "outputs": [],
   "source": [
    "x = np.linspace(-pi,pi,201)"
   ]
  },
  {
   "cell_type": "code",
   "execution_count": null,
   "metadata": {
    "collapsed": true
   },
   "outputs": [],
   "source": []
  },
  {
   "cell_type": "code",
   "execution_count": 5,
   "metadata": {},
   "outputs": [
    {
     "data": {
      "text/plain": [
       "(-3.4557519189487724,\n",
       " 3.4557519189487724,\n",
       " -1.1000000000000001,\n",
       " 1.1000000000000001)"
      ]
     },
     "execution_count": 5,
     "metadata": {},
     "output_type": "execute_result"
    },
    {
     "data": {
      "image/png": "[encoded data removed]",
      "text/plain": [
       "<matplotlib.figure.Figure at 0x7a75cf8>"
      ]
     },
     "metadata": {},
     "output_type": "display_data"
    }
   ],
   "source": [
    "plot(x, np.sin(x))\n",
    "xlabel('Angle [rad]')\n",
    "ylabel('sin(x)')\n",
    "axis('tight')\n"
   ]
  },
  {
   "cell_type": "code",
   "execution_count": null,
   "metadata": {
    "collapsed": true
   },
   "outputs": [],
   "source": [
    "np.array((2,3,4))\n",
    "\n",
    "\n",
    "a\n",
    "a.dtype\n",
    "b = np.array([1.2,3.5,5.1])\n",
    "b.dtype\n",
    "\n",
    "b = np.array(((1.5,2,3), (4,5,6)))\n",
    "b\n",
    "\n",
    "c = np.array( [ [1,2], [3,4] ], dtype=complex)\n",
    "c\n",
    "\n",
    "np.array(((1,2),(3,4)),dtype=complex)\n",
    "\n",
    "\n",
    "np.zeros((3,4))\n",
    "np.ones((2,3,4),dtype=np.int16)\n",
    "np.empty((2,3))\n",
    "\n",
    "np.arange(10,30,5)\n",
    "np.arange(0,2,0.3)\n",
    "\n",
    "from numpy import pi\n",
    "\n",
    "np.linspace(0,2,9)\n",
    "\n",
    "x=np.linspace(0,2*pi,100)\n",
    "f = np.sin(x)\n",
    "plot f\n"
   ]
  }
 ],
 "metadata": {
  "kernelspec": {
   "display_name": "Python 2",
   "language": "python",
   "name": "python2"
  },
  "language_info": {
   "codemirror_mode": {
    "name": "ipython",
    "version": 2
   },
   "file_extension": ".py",
   "mimetype": "text/x-python",
   "name": "python",
   "nbconvert_exporter": "python",
   "pygments_lexer": "ipython2",
   "version": "2.7.13"
  }
 },
 "nbformat": 4,
 "nbformat_minor": 2
}
