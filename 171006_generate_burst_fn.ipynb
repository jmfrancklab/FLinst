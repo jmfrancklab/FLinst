{
 "cells": [
  {
   "cell_type": "code",
   "execution_count": null,
   "metadata": {
    "collapsed": true,
    "scrolled": true
   },
   "outputs": [],
   "source": [
    "###Using file '170921_digitize_frequency_sweep'\n",
    "%pylab inline\n",
    "%load_ext pyspecdata.ipy\n",
    "from Instruments import *\n",
    "from pyspecdata import *\n",
    "import time\n",
    "from serial.tools.list_ports import comports\n",
    "import serial\n",
    "\n",
    "print \"These are the instruments available:\"\n",
    "SerialInstrument(None)\n",
    "print \"done printing available instruments\"\n",
    "\n",
    "with SerialInstrument('GDS-3254') as s:\n",
    "    print s.respond('*idn?')\n",
    "    \n",
    "with SerialInstrument('AFG-2225') as s:\n",
    "    print s.respond('*idn?')"
   ]
  },
  {
   "cell_type": "code",
   "execution_count": null,
   "metadata": {
    "collapsed": true
   },
   "outputs": [],
   "source": [
    "with AFG() as a:\n",
    "    a.reset()\n",
    "    a.appl_squ()\n",
    "    print a.CH1.burst\n",
    "    a.CH1.burst = True\n",
    "    print a.CH1.burst\n",
    "    a.set_burst(ncyc=1,per=3)\n",
    "    ch=1\n",
    "    print a.respond('SOUR%d:BURS:TRIG:SOUR?'%ch)\n",
    "    print a.respond('OUTP%d:TRIG?'%ch)\n"
   ]
  },
  {
   "cell_type": "code",
   "execution_count": null,
   "metadata": {
    "collapsed": true
   },
   "outputs": [],
   "source": [
    "with GDS_scope() as g:\n",
    "    data = g.waveform(ch=2)\n",
    "data"
   ]
  },
  {
   "cell_type": "code",
   "execution_count": null,
   "metadata": {
    "collapsed": true
   },
   "outputs": [],
   "source": []
  }
 ],
 "metadata": {
  "kernelspec": {
   "display_name": "Python 2",
   "language": "python",
   "name": "python2"
  },
  "language_info": {
   "codemirror_mode": {
    "name": "ipython",
    "version": 2
   },
   "file_extension": ".py",
   "mimetype": "text/x-python",
   "name": "python",
   "nbconvert_exporter": "python",
   "pygments_lexer": "ipython2",
   "version": "2.7.13"
  }
 },
 "nbformat": 4,
 "nbformat_minor": 2
}
