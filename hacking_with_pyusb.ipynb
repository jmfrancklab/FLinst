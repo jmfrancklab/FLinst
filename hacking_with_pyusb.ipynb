{
 "cells": [
  {
   "cell_type": "code",
   "execution_count": null,
   "metadata": {
    "collapsed": true
   },
   "outputs": [],
   "source": [
    "import visa"
   ]
  },
  {
   "cell_type": "code",
   "execution_count": null,
   "metadata": {
    "collapsed": true
   },
   "outputs": [],
   "source": [
    "rm = visa.ResourceManager()"
   ]
  },
  {
   "cell_type": "code",
   "execution_count": null,
   "metadata": {
    "collapsed": true
   },
   "outputs": [],
   "source": [
    "rm.list_resources()"
   ]
  },
  {
   "cell_type": "code",
   "execution_count": null,
   "metadata": {
    "collapsed": true
   },
   "outputs": [],
   "source": [
    "inst = rm.open_resource('ASRL2::INSTR')"
   ]
  },
  {
   "cell_type": "code",
   "execution_count": null,
   "metadata": {
    "collapsed": true
   },
   "outputs": [],
   "source": [
    "inst.query('*IDN?')"
   ]
  },
  {
   "cell_type": "code",
   "execution_count": null,
   "metadata": {
    "collapsed": true
   },
   "outputs": [],
   "source": [
    "inst2 = rm.open_resource('ASRL1::INSTR')"
   ]
  },
  {
   "cell_type": "code",
   "execution_count": null,
   "metadata": {
    "collapsed": true
   },
   "outputs": [],
   "source": [
    "inst2.query('*IDN?')"
   ]
  },
  {
   "cell_type": "code",
   "execution_count": null,
   "metadata": {
    "collapsed": true
   },
   "outputs": [],
   "source": [
    "import usb"
   ]
  },
  {
   "cell_type": "markdown",
   "metadata": {},
   "source": [
    "the following code is motivated by [this post](https://sourceforge.net/p/pyusb/mailman/message/26074876/)"
   ]
  },
  {
   "cell_type": "code",
   "execution_count": null,
   "metadata": {
    "collapsed": true
   },
   "outputs": [],
   "source": [
    "[(j.manufacturer,j.product,j.idProduct,j.idVendor,j.bcdDevice) for j in usb.core.find(find_all=True)]"
   ]
  },
  {
   "cell_type": "code",
   "execution_count": null,
   "metadata": {
    "collapsed": true
   },
   "outputs": [],
   "source": [
    "[dir(j) for j in usb.core.find(find_all=True)]"
   ]
  },
  {
   "cell_type": "code",
   "execution_count": null,
   "metadata": {
    "collapsed": true
   },
   "outputs": [],
   "source": [
    "afg = [j for j in usb.core.find(find_all=True) if j.product==u'AFG-2225'][0]"
   ]
  },
  {
   "cell_type": "code",
   "execution_count": null,
   "metadata": {
    "collapsed": true
   },
   "outputs": [],
   "source": [
    "afg_dev = [l for l in [[k for k in j.devices if k.idProduct==28 and k.idVendor==8580] for j in usb.busses()] if len(l)>0][0][0]"
   ]
  },
  {
   "cell_type": "code",
   "execution_count": null,
   "metadata": {
    "collapsed": true
   },
   "outputs": [],
   "source": [
    "for j in usb.busses():\n",
    "    for dev in j.devices:\n",
    "        if dev.idVendor == 8580 and dev.idProduct==28:\n",
    "            handle=dev.open()\n",
    "            handle.setConfiguration(1)\n",
    "            handle.setAltInterface(0)\n",
    "            handle.interruptWrite(2, \"*IDN?\\n\")\n",
    "            handle.releaseInterface()"
   ]
  },
  {
   "cell_type": "code",
   "execution_count": null,
   "metadata": {
    "collapsed": true
   },
   "outputs": [],
   "source": [
    "hand=afg_dev.open()\n",
    "print hand\n",
    "print dir(hand)\n",
    "hand.reset()\n",
    "interf = afg_dev.configurations[0].interfaces[0][0]"
   ]
  },
  {
   "cell_type": "code",
   "execution_count": null,
   "metadata": {
    "collapsed": true
   },
   "outputs": [],
   "source": [
    "hand.claimInterface(interf)\n",
    "ID='\\x01\\x01\\xfe\\x00\\x05\\x00\\x00\\x00\\x01\\x00\\x00\\x00*idn?\\x00\\x00\\x00'\n",
    "REQ_IN='\\x02\\x02\\xfd\\x00\\x00\\x01\\x00\\x00\\x00\\x00\\x00\\x00'\n",
    "hand.bulkWrite(6,ID,4000)    #write to a bulk-out endpoint\n",
    "hand.bulkWrite(6,REQ_IN,4000)    #write to a bulk-out endpoint\n",
    "stuff=hand.bulkRead(133,256)#read from a bulk-in endpoint"
   ]
  },
  {
   "cell_type": "code",
   "execution_count": null,
   "metadata": {
    "collapsed": true
   },
   "outputs": [],
   "source": [
    "from serial.tools.list_ports import comports\n",
    "import serial"
   ]
  },
  {
   "cell_type": "code",
   "execution_count": null,
   "metadata": {
    "collapsed": true
   },
   "outputs": [],
   "source": [
    "for j in comports():\n",
    "    print j[0]\n",
    "    if 'A105' in j[0]:\n",
    "        with serial.Serial(j[0]) as s:\n",
    "            s.write('*idn?\\n')\n",
    "            print s.readline()"
   ]
  },
  {
   "cell_type": "code",
   "execution_count": null,
   "metadata": {
    "collapsed": true
   },
   "outputs": [],
   "source": [
    "import usb.core\n",
    "\n",
    "import usb.util\n",
    "\n",
    "dev = usb.core.find(idVendor=8580, idProduct=28)\n",
    "if dev is None:\n",
    "    raise ValueError('Device not found')\n",
    "    \n",
    "dev.set_configuration()\n",
    "cfg = dev.get_active_configuration()\n",
    "intf = cfg[(0,0)]\n",
    "#print intf\n",
    "for j in intf.endpoints():\n",
    "    j.write('*idn?\\n',3)\n",
    "    #j.read(100)\n",
    "    #print j\n",
    "    \n",
    "    \n",
    "#usb.util.find_descriptor?"
   ]
  },
  {
   "cell_type": "code",
   "execution_count": null,
   "metadata": {
    "collapsed": true
   },
   "outputs": [],
   "source": [
    "    intf,\n",
    "    custom_match = \\\n",
    "    lambda e: \\\n",
    "    usb.util.endpoint_direction(e.bEndpointAddress) == \\\n",
    "    usb.util.ENDPOINT_OUT)\n",
    "\n",
    "assert ep is not None\n",
    "\n",
    "ep.write('test')"
   ]
  },
  {
   "cell_type": "code",
   "execution_count": null,
   "metadata": {
    "collapsed": true
   },
   "outputs": [],
   "source": []
  }
 ],
 "metadata": {
  "kernelspec": {
   "display_name": "Python 2",
   "language": "python",
   "name": "python2"
  },
  "language_info": {
   "codemirror_mode": {
    "name": "ipython",
    "version": 2
   },
   "file_extension": ".py",
   "mimetype": "text/x-python",
   "name": "python",
   "nbconvert_exporter": "python",
   "pygments_lexer": "ipython2",
   "version": "2.7.13"
  }
 },
 "nbformat": 4,
 "nbformat_minor": 2
}
