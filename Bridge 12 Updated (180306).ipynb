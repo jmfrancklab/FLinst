{
 "cells": [
  {
   "cell_type": "markdown",
   "metadata": {},
   "source": [
    "# Initialization\n",
    "\n",
    "to run on a different computer, run ``jupyter notebook --ip='*'`` copy and paste address and replace ``localhost`` with ``jmfranck-pi2.syr.edu`` (if on the internet) or ``192.168.1.20`` (if on local network)"
   ]
  },
  {
   "cell_type": "markdown",
   "metadata": {},
   "source": [
    "(test:make change to see if file commits to github)"
   ]
  },
  {
   "cell_type": "code",
   "execution_count": null,
   "metadata": {},
   "outputs": [],
   "source": [
    "%pylab inline\n",
    "from serial.tools.list_ports import comports, grep\n",
    "import serial\n",
    "import time\n",
    "#import winsound\n",
    "print serial.VERSION\n",
    "\n",
    "def generate_beep(freq,duration):\n",
    "    \"Generates a beep -- used winsound.Beep under windows -- use pygame under linux\"\n",
    "    return\n",
    "def bridge12_wait(s):\n",
    "    #time.sleep(5)\n",
    "    def look_for(this_str):\n",
    "        for j in range(1000):\n",
    "            a = s.read_until(this_str+'\\r\\n')\n",
    "            time.sleep(0.1)\n",
    "            #print \"a is\",repr(a)\n",
    "            print \"look for\",this_str,\"try\",j+1\n",
    "            if this_str in a:\n",
    "                print \"found: \",this_str\n",
    "                break\n",
    "    look_for('MPS Started')\n",
    "    look_for('System Ready')\n",
    "    return"
   ]
  },
  {
   "cell_type": "markdown",
   "metadata": {},
   "source": [
    "Print out the com ports, so we know what we're looking for"
   ]
  },
  {
   "cell_type": "code",
   "execution_count": null,
   "metadata": {},
   "outputs": [],
   "source": [
    "[(j.device, j.hwid, j.vid, j.description, j.manufacturer) for j in comports()] #list comprehension"
   ]
  },
  {
   "cell_type": "markdown",
   "metadata": {},
   "source": [
    "Grab the port labeled as Arduino (since the Bridge12 microcontroller is an Arduino)"
   ]
  },
  {
   "cell_type": "code",
   "execution_count": null,
   "metadata": {},
   "outputs": [],
   "source": [
    "portlist = [j.device for j in comports() if u'Arduino Due' in j.description]\n",
    "assert len(portlist)==1\n",
    "thisport = portlist[0]"
   ]
  },
  {
   "cell_type": "markdown",
   "metadata": {},
   "source": [
    "### Testing Out Commands"
   ]
  },
  {
   "cell_type": "markdown",
   "metadata": {},
   "source": [
    "Help Command"
   ]
  },
  {
   "cell_type": "code",
   "execution_count": null,
   "metadata": {},
   "outputs": [],
   "source": [
    "with serial.Serial(thisport, timeout=3, baudrate=115200) as s:\n",
    "    bridge12_wait(s) #give it time to start\n",
    "    s.write(\"help\\r\") #command for \"help\"\n",
    "    print \"after help:\"\n",
    "    entire_response = ''\n",
    "    start = time.time()\n",
    "    entire_response += s.readline()\n",
    "    time_to_read_a_line = time.time()-start\n",
    "    grab_more_lines = True\n",
    "    while grab_more_lines:\n",
    "        time.sleep(3*time_to_read_a_line)\n",
    "        more = s.read_all()\n",
    "        entire_response += more\n",
    "        if len(more) == 0:\n",
    "            grab_more_lines = False\n",
    "    print repr(entire_response)"
   ]
  },
  {
   "cell_type": "markdown",
   "metadata": {},
   "source": [
    "Waveguide Status Command"
   ]
  },
  {
   "cell_type": "code",
   "execution_count": null,
   "metadata": {},
   "outputs": [],
   "source": [
    "with serial.Serial(thisport, timeout=3, baudrate=115200) as s:\n",
    "    def wgstatus_int_singletry():\n",
    "        s.write('wgstatus?\\r')\n",
    "        return int(s.readline())\n",
    "    def wgstatus_int():\n",
    "        \"need two consecutive responses that match\"\n",
    "        a = wgstatus_int_singletry()\n",
    "        b = wgstatus_int_singletry()\n",
    "        while a != b:\n",
    "            a = b\n",
    "            b = wgstatus_int_singletry()\n",
    "        return a\n",
    "    bridge12_wait(s)\n",
    "    print \"initial status:\",wgstatus_int()\n",
    "    s.write('wgstatus 1\\r')\n",
    "    print \"turn it on:\",wgstatus_int()\n",
    "    time.sleep(3)\n",
    "    s.write('wgstatus 0\\r')\n",
    "    print \"turn it off again:\",wgstatus_int()"
   ]
  },
  {
   "cell_type": "markdown",
   "metadata": {},
   "source": [
    "Waveguide Status Command 2"
   ]
  },
  {
   "cell_type": "code",
   "execution_count": null,
   "metadata": {},
   "outputs": [],
   "source": [
    "with serial.Serial(thisport, timeout=3, baudrate=115200) as s:\n",
    "    bridge12_wait(s)\n",
    "    def set_wg(setting):\n",
    "        \"\"\"set *and check* waveguide\n",
    "        \n",
    "        Parameters\n",
    "        ==========\n",
    "        setting: bool\n",
    "            Waveguide setting appropriate for:\n",
    "            True: DNP\n",
    "            False: ESR\n",
    "        \"\"\"\n",
    "        s.write('wgstatus %d\\r'%setting)\n",
    "        for j in range(10):\n",
    "            s.write('wgstatus?\\r')\n",
    "            result = int(s.readline())\n",
    "            if result == setting:\n",
    "                return\n",
    "        raise RuntimeError(\"After trying 10 times, I can't get the waveguide to change\")\n",
    "    print \"waveguide on\"\n",
    "    set_wg(True)\n",
    "    time.sleep(5)# just so we're not toggling it back and forth very fast\n",
    "    print \"waveguide off\"\n",
    "    set_wg(False)"
   ]
  },
  {
   "cell_type": "markdown",
   "metadata": {},
   "source": [
    "Frequency Query Test"
   ]
  },
  {
   "cell_type": "code",
   "execution_count": null,
   "metadata": {},
   "outputs": [],
   "source": [
    "with serial.Serial(thisport, timeout=3, baudrate=115200) as s:\n",
    "    bridge12_wait(s) #give it time to start\n",
    "    s.write(\"freq?\\r\") #query for \"freq?\"\n",
    "    print \"after freq:\"\n",
    "    entire_response = ''\n",
    "    start = time.time()\n",
    "    entire_response += s.readline()\n",
    "    time_to_read_a_line = time.time()-start\n",
    "    grab_more_lines = True\n",
    "    while grab_more_lines:\n",
    "        time.sleep(3*time_to_read_a_line)\n",
    "        more = s.read_all()\n",
    "        entire_response += more\n",
    "        if len(more) == 0:\n",
    "            grab_more_lines = False\n",
    "    print repr(entire_response)"
   ]
  },
  {
   "cell_type": "markdown",
   "metadata": {},
   "source": [
    "Frequency Sweep Test"
   ]
  },
  {
   "cell_type": "code",
   "execution_count": null,
   "metadata": {},
   "outputs": [],
   "source": [
    "freq = linspace(9.4e9,9.9e9, 50)\n",
    "with serial.Serial(thisport, timeout=3, baudrate=115200) as s:\n",
    "    bridge12_wait(s) #give it time to start\n",
    "    for j,f in enumerate(freq):\n",
    "        time.sleep(0.5)\n",
    "        generate_beep(500, 300)\n",
    "        s.write('freq %.1f\\r'%(f/1e3))\n",
    "    print \"after freq:\"\n",
    "    entire_response = ''\n",
    "    start = time.time()\n",
    "    entire_response += s.readline()\n",
    "    time_to_read_a_line = time.time()-start\n",
    "    grab_more_lines = True\n",
    "    while grab_more_lines:\n",
    "        time.sleep(3*time_to_read_a_line)\n",
    "        more = s.read_all()\n",
    "        entire_response += more\n",
    "        if len(more) == 0:\n",
    "            grab_more_lines = False\n",
    "    print repr(entire_response)"
   ]
  },
  {
   "cell_type": "markdown",
   "metadata": {},
   "source": [
    "Ampstatus Test"
   ]
  },
  {
   "cell_type": "code",
   "execution_count": null,
   "metadata": {},
   "outputs": [],
   "source": [
    "with serial.Serial(thisport, timeout=3, baudrate=115200) as s:\n",
    "    def ampstatus_int_singletry():\n",
    "        s.write('ampstatus?\\r')\n",
    "        return int(s.readline())\n",
    "    def ampstatus_int():\n",
    "        \"need two consecutive responses that match\"\n",
    "        a = ampstatus_int_singletry()\n",
    "        b = ampstatus_int_singletry()\n",
    "        while a != b:\n",
    "            a = b\n",
    "            b = wgstatus_int_singletry()\n",
    "        return a\n",
    "    bridge12_wait(s)\n",
    "    print \"initial status:\",wgstatus_int()\n",
    "    s.write('ampstatus 1\\r')\n",
    "    print \"turn it on:\",wgstatus_int()\n",
    "    time.sleep(3)\n",
    "    s.write('ampstatus 0\\r')\n",
    "    print \"turn it off again:\",wgstatus_int()"
   ]
  },
  {
   "cell_type": "markdown",
   "metadata": {},
   "source": [
    "Power Change Test"
   ]
  },
  {
   "cell_type": "code",
   "execution_count": null,
   "metadata": {},
   "outputs": [],
   "source": [
    "with serial.Serial(thisport, timeout=3, baudrate=115200) as s:\n",
    "    def power_int_singletry():\n",
    "        s.write('power?\\r')\n",
    "        return int(s.readline())\n",
    "    def power_int():\n",
    "        \"need two consecutive responses that match\"\n",
    "        a = power_int_singletry()\n",
    "        b = power_int_singletry()\n",
    "        while a != b:\n",
    "            a = b\n",
    "            b = power_int_singletry()\n",
    "        return a\n",
    "    bridge12_wait(s)\n",
    "    print \"initial power:\",power_int()\n",
    "    s.write('power 100\\r')\n",
    "    print \"up power:\",power_int()\n",
    "    time.sleep(3)\n",
    "    s.write('power 0\\r')\n",
    "    print \"down power:\",power_int()"
   ]
  },
  {
   "cell_type": "markdown",
   "metadata": {},
   "source": [
    "### Initialization Part 2\n",
    "###### Initialization code for Tuning Curve and MW Power Test"
   ]
  },
  {
   "cell_type": "code",
   "execution_count": null,
   "metadata": {},
   "outputs": [],
   "source": [
    "def wgstatus_int_singletry(s):\n",
    "    s.write('wgstatus?\\r')\n",
    "    return int(s.readline())\n",
    "def wgstatus_int(s):\n",
    "    \"need two consecutive responses that match\"\n",
    "    c = wgstatus_int_singletry(s)\n",
    "    d = wgstatus_int_singletry(s)\n",
    "    while c != d:\n",
    "        c = d\n",
    "        d = wgstatus_int_singletry(s)\n",
    "    return c\n",
    "def set_wg(s,setting):\n",
    "    \"\"\"set *and check* waveguide\n",
    "\n",
    "    Parameters\n",
    "    ==========\n",
    "    s: Serial object\n",
    "        gives the connection\n",
    "    setting: bool\n",
    "        Waveguide setting appropriate for:\n",
    "        True: DNP\n",
    "        False: ESR\n",
    "    \"\"\"\n",
    "    s.write('wgstatus %d\\r'%setting)\n",
    "    for j in range(10):\n",
    "        result = wgstatus_int(s)\n",
    "        if result == setting:\n",
    "            return\n",
    "    raise RuntimeError(\"After checking status 10 times, I can't get the waveguide to change\")\n",
    "    \n",
    "def ampstatus_int_singletry(s):\n",
    "    s.write('ampstatus?\\r')\n",
    "    return int(s.readline())\n",
    "def ampstatus_int(s):\n",
    "    \"need two consecutive responses that match\"\n",
    "    a = ampstatus_int_singletry(s)\n",
    "    b = ampstatus_int_singletry(s)\n",
    "    while a != b:\n",
    "        a = b\n",
    "        b = ampstatus_int_singletry(s)\n",
    "    return a\n",
    "def set_amp(s,setting):\n",
    "    \"\"\"set *and check* amplifier\n",
    "\n",
    "    Parameters\n",
    "    ==========\n",
    "    s: Serial object\n",
    "        gives the connection\n",
    "    setting: bool\n",
    "       Amplifier setting appropriate for:\n",
    "        True: On\n",
    "        False: Off\n",
    "    \"\"\"\n",
    "    s.write('ampstatus %d\\r'%setting)\n",
    "    for j in range(10):\n",
    "        result = ampstatus_int(s)\n",
    "        if result == setting:\n",
    "            return\n",
    "    raise RuntimeError(\"After checking status 10 times, I can't get the amplifier to turn on/off\")\n",
    "    \n",
    "def rfstatus_int_singletry(s):\n",
    "    s.write('rfstatus?\\r')\n",
    "    return int(s.readline())\n",
    "def rfstatus_int(s):\n",
    "    \"need two consecutive responses that match\"\n",
    "    f = rfstatus_int_singletry(s)\n",
    "    g = rfstatus_int_singletry(s)\n",
    "    while f != g:\n",
    "        f = g\n",
    "        g = rfstatus_int_singletry(s)\n",
    "    return f\n",
    "def set_rf(s,setting):\n",
    "    \"\"\"set *and check* microwave power\n",
    "\n",
    "    Parameters\n",
    "    ==========\n",
    "    s: Serial object\n",
    "        gives the connection\n",
    "    setting: bool\n",
    "        Microwave Power setting appropriate for:\n",
    "        True: On\n",
    "        False: Off\n",
    "    \"\"\"\n",
    "    s.write('rfstatus %d\\r'%setting)\n",
    "    for j in range(10):\n",
    "        result = rfstatus_int(s)\n",
    "        if result == setting:\n",
    "            return\n",
    "    raise RuntimeError(\"After checking status 10 times, I can't get the mw power to turn on/off\")\n",
    "\n",
    "def power_int_singletry(s):\n",
    "    s.write('power?\\r')\n",
    "    return int(s.readline())\n",
    "def power_int(s):\n",
    "    \"need two consecutive responses that match\"\n",
    "    h = power_int_singletry(s)\n",
    "    i = power_int_singletry(s)\n",
    "    while h != i:\n",
    "        h = i\n",
    "        i = power_int_singletry(s)\n",
    "    return h\n",
    "def set_power(s,dBm):\n",
    "    \"\"\"set *and check* power\n",
    "\n",
    "    Parameters\n",
    "    ==========\n",
    "    s: Serial object\n",
    "        gives the connection\n",
    "    dBm: float\n",
    "        power values -- give a dBm (not 10*dBm) as a floating point number\n",
    "    \"\"\"\n",
    "    setting = int(10*dBm+0.5)\n",
    "    if setting > 150:\n",
    "        raise ValueError(\"You are not allowed to use this function to set a power of greater than 15 dBm for safety reasons\")\n",
    "    elif setting < 0:\n",
    "        raise ValueError(\"Negative dBm -- not supported\")\n",
    "    s.write('power %d\\r'%setting)\n",
    "    for j in range(10):\n",
    "        result = power_int(s)\n",
    "        if result == setting:\n",
    "            return\n",
    "    raise RuntimeError(\"After checking status 10 times, I can't get the power to change\")\n",
    "    "
   ]
  },
  {
   "cell_type": "markdown",
   "metadata": {},
   "source": [
    "###### Code for MW Power Test\n",
    "check that all the ``set_`` functions work correctly:"
   ]
  },
  {
   "cell_type": "code",
   "execution_count": null,
   "metadata": {},
   "outputs": [],
   "source": [
    "with serial.Serial(thisport, timeout=3, baudrate=115200) as s:\n",
    "    bridge12_wait(s)\n",
    "    print \"initial wg status:\", wgstatus_int(s)\n",
    "    set_wg(s,True)\n",
    "    print \"initial amp status:\", ampstatus_int(s)\n",
    "    set_amp(s, True)\n",
    "    print \"initial rf status:\", rfstatus_int(s)\n",
    "    set_rf(s, True)\n",
    "    print \"initial power:\",power_int(s)\n",
    "    set_power(s, 10)\n",
    "    print \"up power:\",power_int(s)\n",
    "    time.sleep(10)\n",
    "    set_power(s, 0)\n",
    "    print \"down power:\",power_int(s)\n",
    "    set_rf(s,False)\n",
    "    print \"final rf status:\", rfstatus_int(s)\n",
    "    set_wg(s,False)\n",
    "    print \"final wg status:\", wgstatus_int(s)"
   ]
  },
  {
   "cell_type": "markdown",
   "metadata": {},
   "source": [
    "### Tuning Curve"
   ]
  },
  {
   "cell_type": "code",
   "execution_count": null,
   "metadata": {},
   "outputs": [],
   "source": [
    "freq = linspace(9.4e9,9.9e9, 50)\n",
    "rxvalues = zeros(len(freq))\n",
    "with serial.Serial(thisport, timeout=3, baudrate=115200) as s:\n",
    "    bridge12_wait(s)\n",
    "    #Turn Components On and Power to 10dBm\n",
    "    set_wg(s,True)\n",
    "    set_amp(s, True)\n",
    "    set_rf(s, True)\n",
    "    set_power(s,10.0)\n",
    "    #FREQUENCY AND RXPOWER SWEEP \n",
    "    for j,f in enumerate(freq):\n",
    "        time.sleep(0.5)\n",
    "        generate_beep(500, 300)\n",
    "        s.write('freq %.1f\\r'%(f/1e3))\n",
    "        s.write('freq?\\r')\n",
    "        print \"now frequency is:\",s.readline()\n",
    "        s.write('rxpowerdbm?\\r') \n",
    "        rx =s.readline()\n",
    "        rxvalues[j] = float(rx)/10 \n",
    "    #Turn Components Off and Power to 0dBm\n",
    "    set_power(s,0)\n",
    "    set_rf(s,False)\n",
    "    set_wg(s,False)\n",
    "print \"j\",j, \"freq\",f, \"rxpower\", rxvalues #'table' of values\n",
    "plot(freq, rxvalues) #tuning curve"
   ]
  },
  {
   "cell_type": "markdown",
   "metadata": {},
   "source": [
    "Testing Components of Tuning Curve Individually (Ctrl + / to comment out)"
   ]
  },
  {
   "cell_type": "code",
   "execution_count": null,
   "metadata": {},
   "outputs": [],
   "source": [
    "# with serial.Serial(thisport, timeout=3, baudrate=115200) as s:\n",
    "#     bridge12_wait(s)\n",
    "#     print \"initial wg status:\",wgstatus_int(s)\n",
    "#     set_wg(s,True)\n",
    "#     time.sleep(10)\n",
    "#     set_wg(s,False)\n",
    "#     print \"final wg status:\", wgstatus_int(s)\n",
    "# with serial.Serial(thisport, timeout=3, baudrate=115200) as s:\n",
    "#     bridge12_wait(s)\n",
    "#     print \"initial amp status:\",ampstatus_int(s)\n",
    "#     set_amp(s,True)\n",
    "#     time.sleep(10)\n",
    "#     set_amp(s,False)\n",
    "#     print \"final amp status:\", ampstatus_int(s)\n",
    "with serial.Serial(thisport, timeout=3, baudrate=115200) as s:\n",
    "    bridge12_wait(s)\n",
    "    print \"initial wg status:\",wgstatus_int(s)\n",
    "    set_wg(s,True)\n",
    "    print \"initial rf status:\",ampstatus_int(s)\n",
    "    set_rf(s,True)\n",
    "    time.sleep(10)\n",
    "    set_rf(s,False)\n",
    "    print \"final rf status:\", rfstatus_int(s)\n",
    "    set_wg(s,False)\n",
    "    print \"final wg status:\", wgstatus_int(s)"
   ]
  },
  {
   "cell_type": "markdown",
   "metadata": {},
   "source": [
    "There is an issue with ampstatus: the initial status is 1, which seems to be problematic. When I set it to True then False, the final amp status is 0."
   ]
  },
  {
   "cell_type": "markdown",
   "metadata": {},
   "source": [
    "The same issue appears with the rfstatus, but in this case, the Bridge12 screen says the mw power is off but the \"initial rf status\" reads it as on."
   ]
  },
  {
   "cell_type": "code",
   "execution_count": null,
   "metadata": {},
   "outputs": [],
   "source": []
  }
 ],
 "metadata": {
  "kernelspec": {
   "display_name": "Python 2",
   "language": "python",
   "name": "python2"
  },
  "language_info": {
   "codemirror_mode": {
    "name": "ipython",
    "version": 2
   },
   "file_extension": ".py",
   "mimetype": "text/x-python",
   "name": "python",
   "nbconvert_exporter": "python",
   "pygments_lexer": "ipython2",
   "version": "2.7.9"
  }
 },
 "nbformat": 4,
 "nbformat_minor": 2
}
