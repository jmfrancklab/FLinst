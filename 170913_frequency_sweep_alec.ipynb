{
 "cells": [
  {
   "cell_type": "code",
   "execution_count": null,
   "metadata": {},
   "outputs": [],
   "source": [
    "%pylab inline\n",
    "%load_ext pyspecdata.ipy\n",
    "from Instruments import *\n",
    "from pyspecdata import *\n",
    "import time"
   ]
  },
  {
   "cell_type": "code",
   "execution_count": null,
   "metadata": {},
   "outputs": [],
   "source": [
    "with AFG() as a:\n",
    "    a.reset()\n",
    "    print \"CH1 sweep set to\",a.CH1.sweep\n",
    "    a.CH1.sweep = True\n",
    "    \n",
    "    \n",
    "    #print \"now, I try to turn sweep on\"\n",
    "    #a.CH1.sweep = True\n",
    "    #print \"CH1 sweep set to\",a.CH1.sweep\n",
    "    #print \"now, I turn on the output\"\n",
    "    #a.CH1.output = True\n",
    "    #print \"now, capture the data\"\n",
    "    #time.sleep(1)\n",
    "    # grab it on the scope\n",
    "    #with GDS_scope() as g:\n",
    "     #   g.autoset()\n",
    "      #  data = g.waveform(ch=2)\n",
    "   # print \"turn off the output again\"\n",
    "    #a.CH1.output = False"
   ]
  },
  {
   "cell_type": "code",
   "execution_count": null,
   "metadata": {
    "collapsed": true
   },
   "outputs": [],
   "source": []
  }
 ],
 "metadata": {
  "kernelspec": {
   "display_name": "Python 2",
   "language": "python",
   "name": "python2"
  },
  "language_info": {
   "codemirror_mode": {
    "name": "ipython",
    "version": 2
   },
   "file_extension": ".py",
   "mimetype": "text/x-python",
   "name": "python",
   "nbconvert_exporter": "python",
   "pygments_lexer": "ipython2",
   "version": "2.7.13"
  }
 },
 "nbformat": 4,
 "nbformat_minor": 2
}
