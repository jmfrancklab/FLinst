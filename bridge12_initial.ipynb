{
 "cells": [
  {
   "cell_type": "code",
   "execution_count": 39,
   "metadata": {},
   "outputs": [
    {
     "name": "stdout",
     "output_type": "stream",
     "text": [
      "Populating the interactive namespace from numpy and matplotlib\n"
     ]
    }
   ],
   "source": [
    "%pylab inline\n",
    "from serial.tools.list_ports import comports, grep\n",
    "import serial\n",
    "import time\n",
    "import winsound\n"
   ]
  },
  {
   "cell_type": "code",
   "execution_count": 2,
   "metadata": {},
   "outputs": [
    {
     "data": {
      "text/plain": [
       "[(u'COM3',\n",
       "  'USB VID:PID=2A03:003D SER=75430333137351E03132 LOCATION=1-2',\n",
       "  10755,\n",
       "  u'Arduino Due Programming Port (COM3)',\n",
       "  u'Arduino Srl (www.arduino.org)')]"
      ]
     },
     "execution_count": 2,
     "metadata": {},
     "output_type": "execute_result"
    }
   ],
   "source": [
    "[(j.device, j.hwid, j.vid, j.description, j.manufacturer) for j in comports()] #list comprehension"
   ]
  },
  {
   "cell_type": "code",
   "execution_count": 3,
   "metadata": {
    "collapsed": true
   },
   "outputs": [],
   "source": [
    "portlist = [j.device for j in comports() if j.description==u'Arduino Due Programming Port (COM3)']\n",
    "assert len(portlist)==1\n",
    "thisport = portlist[0]"
   ]
  },
  {
   "cell_type": "code",
   "execution_count": 4,
   "metadata": {
    "scrolled": true
   },
   "outputs": [
    {
     "name": "stdout",
     "output_type": "stream",
     "text": [
      "done\n",
      "initial: Bridge12 MPS Started\n",
      "\n",
      "after help: \n",
      "Serial Commands Help\n",
      "====================\n",
      "\n",
      "Command examples\n",
      "Set Frequency:\n",
      "freq <frequency in kHz>\n",
      "\n",
      "Query Frequency:\n",
      "freq?\n",
      "\n",
      "\n",
      "Set Power Level:\n",
      "power <level in dBm * 10>\n",
      "\n",
      "Query Frequency:\n",
      "power?\n",
      "\n",
      "\n",
      "For a complete list see the manual\n",
      "\n"
     ]
    }
   ],
   "source": [
    "#help command\n",
    "with serial.Serial(thisport, timeout=1, baudrate=115200) as s:\n",
    "    time.sleep(10) #give it time to start\n",
    "    print \"done\"\n",
    "    print \"initial:\",s.readline() #Bridge 12 MPS Started\n",
    "    s.write(\"help\\r\") #command for \"help\"\n",
    "    time.sleep(4) #time to process\n",
    "    print \"after help:\",s.read_all() #read help "
   ]
  },
  {
   "cell_type": "code",
   "execution_count": null,
   "metadata": {
    "collapsed": true
   },
   "outputs": [],
   "source": [
    "#freq query test\n",
    "with serial.Serial(thisport, timeout=1, baudrate=115200) as s:\n",
    "    time.sleep(10)\n",
    "    print \"done\"\n",
    "    winsound.Beep(1000,300)\n",
    "    s.write('freq?\\r')\n",
    "    print float(s.readline())\n",
    "print \"final\""
   ]
  },
  {
   "cell_type": "code",
   "execution_count": null,
   "metadata": {
    "collapsed": true
   },
   "outputs": [],
   "source": [
    "#frequency test\n",
    "with serial.Serial(thisport, timeout=1, baudrate=115200) as s:\n",
    "    time.sleep(10)\n",
    "    print \"done\"\n",
    "    winsound.Beep(1000,300)\n",
    "    for freq in linspace(9.45e9,9.51e9,11):\n",
    "        time.sleep(0.5)\n",
    "        winsound.Beep(500,300)\n",
    "        s.write('freq %.1f\\r'%(freq/1e3))\n",
    "    winsound.Beep(1000,300)\n",
    "    time.sleep(5)\n",
    "    print \"final:\", s.read_all()"
   ]
  },
  {
   "cell_type": "code",
   "execution_count": 36,
   "metadata": {},
   "outputs": [
    {
     "name": "stdout",
     "output_type": "stream",
     "text": [
      "done\n",
      "initial: Bridge12 MPS Started\n",
      "\n",
      "amp status: 1\n",
      "after freq: \n"
     ]
    }
   ],
   "source": [
    "#preliminary code for ampstatus and freq (no need to run):\n",
    "with serial.Serial(thisport, timeout=1, baudrate=115200) as s:\n",
    "    time.sleep(10) \n",
    "    print \"done\"\n",
    "    print \"initial:\",s.readline()\n",
    "    s.write('ampstatus 0\\r') #command amp to be OFF\n",
    "    s.write('ampstatus?\\r') #command to check amp status (ON/OFF)\n",
    "    amp_status = int(s.readline()) #read amp status as an integer\n",
    "    print \"amp status:\",amp_status #print amp status \n",
    "    winsound.Beep(1000, 300) #signal to begin running through frequencies\n",
    "    for mw_freq in linspace(9.45e9,9.51e9,11): #frequencies being ran through \n",
    "        time.sleep(0.5) #time between frequencies\n",
    "        winsound.Beep(500, 300) #signal frequency change\n",
    "        s.write('freq %.1f\\r'%(mw_freq/1e3)) #changing frequency values to a string for Bridge12 to read\n",
    "    winsound.Beep(1000, 300) #signal when finished running through frequencies\n",
    "    time.sleep(5) #time to process\n",
    "    print \"final:\",s.read_all() #print any values coming out from \"with\" loop"
   ]
  },
  {
   "cell_type": "code",
   "execution_count": 42,
   "metadata": {},
   "outputs": [
    {
     "name": "stdout",
     "output_type": "stream",
     "text": [
      "freq 9500000.0\r\n",
      "freq 9501000.0\r\n",
      "freq 9502000.0\r\n",
      "freq 9503000.0\r\n",
      "freq 9504000.0\r\n",
      "freq 9505000.0\r\n",
      "freq 9506000.0\r\n",
      "freq 9507000.0\r\n",
      "freq 9508000.0\r\n",
      "freq 9509000.0\r\n",
      "freq 9510000.0\r\n"
     ]
    }
   ],
   "source": [
    "for mw_freq in linspace(9.5e9,9.51e9,11):\n",
    "    print 'freq %.1f\\r'%(mw_freq/1e3) #printing"
   ]
  },
  {
   "cell_type": "code",
   "execution_count": 21,
   "metadata": {
    "collapsed": true
   },
   "outputs": [],
   "source": [
    "#just checking to see if sounds work\n",
    "import winsound\n",
    "duration = 1000  # millisecond\n",
    "freq = 440  # Hz\n",
    "winsound.Beep(880, 300)"
   ]
  },
  {
   "cell_type": "code",
   "execution_count": 33,
   "metadata": {},
   "outputs": [
    {
     "data": {
      "text/plain": [
       "31.0"
      ]
     },
     "execution_count": 33,
     "metadata": {},
     "output_type": "execute_result"
    }
   ],
   "source": [
    "result = '30.0'\n",
    "result = float(result) #changes string to a float (regular number)\n",
    "result + 1"
   ]
  },
  {
   "cell_type": "code",
   "execution_count": 41,
   "metadata": {
    "scrolled": true
   },
   "outputs": [
    {
     "name": "stdout",
     "output_type": "stream",
     "text": [
      "j is 0\n",
      "0.0\n",
      "j is 1\n",
      "0.111111111111\n",
      "j is 2\n",
      "0.222222222222\n",
      "j is 3\n",
      "0.333333333333\n",
      "j is 4\n",
      "0.444444444444\n",
      "j is 5\n",
      "0.555555555556\n",
      "j is 6\n",
      "0.666666666667\n",
      "j is 7\n",
      "0.777777777778\n",
      "j is 8\n",
      "0.888888888889\n",
      "j is 9\n",
      "1.0\n"
     ]
    }
   ],
   "source": [
    "for j,f in enumerate(linspace(0,1,10)): #enumerate is for (answer after reading)\n",
    "    print 'j is',j\n",
    "    print f\n",
    "\n"
   ]
  },
  {
   "cell_type": "code",
   "execution_count": 40,
   "metadata": {},
   "outputs": [
    {
     "name": "stdout",
     "output_type": "stream",
     "text": [
      "initial: Bridge12 MPS Started\n",
      "\n",
      "amp status: 0\n",
      "final: \n",
      "j 49 freq 9900000000.0 rxpower [ 27.7  27.7  27.7  27.7  27.7  27.7  27.7  27.7  27.7  27.7  27.7  27.7\n",
      "  27.7  27.7  27.7  27.7  27.7  27.7  27.7  27.7  27.7  27.7  27.7  27.7\n",
      "  27.7  27.7  27.7  27.7  27.7  27.7  27.7  27.7  27.7  27.7  27.7  27.7\n",
      "  27.7  27.7  27.7  27.7  27.7  27.7  27.7  27.7  27.7  27.7  27.7  27.7\n",
      "  27.7  27.7]\n"
     ]
    },
    {
     "data": {
      "text/plain": [
       "[<matplotlib.lines.Line2D at 0xaf50a20>]"
      ]
     },
     "execution_count": 40,
     "metadata": {},
     "output_type": "execute_result"
    },
    {
     "data": {
      "image/png": "[encoded data removed]",
      "text/plain": [
       "<matplotlib.figure.Figure at 0xaf6e208>"
      ]
     },
     "metadata": {},
     "output_type": "display_data"
    }
   ],
   "source": [
    "#use this block for the tuning curve:\n",
    "freq = linspace(9.4e9,9.9e9, 50)\n",
    "rxvalues = zeros(len(freq))\n",
    "with serial.Serial(thisport, timeout=1, baudrate=115200) as s:\n",
    "    time.sleep(10)\n",
    "    print \"initial:\",s.readline()\n",
    "    #ampstatus commands\n",
    "    s.write('ampstatus 0\\r')\n",
    "    time.sleep(0.5)\n",
    "    s.write('ampstatus?\\r')\n",
    "    amp_status = int(s.readline())\n",
    "    print \"amp status:\",amp_status\n",
    "    time.sleep(5)\n",
    "    winsound.Beep(1000,300)\n",
    "    #frequency and rxpower\n",
    "    for j,f in enumerate(freq):\n",
    "        time.sleep(0.5)\n",
    "        winsound.Beep(500, 300)\n",
    "        s.write('freq %.1f\\r'%(f/1e3)) #frequencies are now defined as f, NOT mw_freq\n",
    "        s.write('rxpowerdbm?\\r') \n",
    "        rx =s.readline()\n",
    "        rxvalues[j] = float(rx)/10 #converting string to float point values\n",
    "    winsound.Beep(1000, 300)\n",
    "    time.sleep(5)\n",
    "    print \"final:\",s.read_all()\n",
    "print \"j\",j, \"freq\",f, \"rxpower\", rxvalues #'table' of values\n",
    "plot(freq, rxvalues) #tuning curve"
   ]
  },
  {
   "cell_type": "code",
   "execution_count": null,
   "metadata": {
    "collapsed": true
   },
   "outputs": [],
   "source": [
    "#another option for tuning curve (with sound):\n",
    "freq = linspace(9.4e9,9.9e9, 50)\n",
    "rxvalues = zeros(len(freq))\n",
    "txvalues = zeros(len(freq))\n",
    "with serial.Serial(thisport, timeout=1, baudrate=115200) as s:\n",
    "    time.sleep(10) \n",
    "    print \"done.\"\n",
    "    print \"initial:\",s.readline()\n",
    "    s.write('power?\\r')\n",
    "    check_set_power = float(s.readline())/10.\n",
    "    print \"power is set to\",check_set_power\n",
    "    s.write('ampstatus 0\\r') #command amp to be OFF\n",
    "    s.write('ampstatus?\\r') #command to check amp status (ON/OFF)\n",
    "    amp_status = int(s.readline()) #read amp status as an integer\n",
    "    print \"amp status:\",amp_status #print amp status \n",
    "    s.write('rfstatus?\\r') #command to check rf status (ON/OFF)\n",
    "    rf_status = int(s.readline()) #read rf status as an integer\n",
    "    print \"rf status:\",rf_status #print amp status \n",
    "    s.write('wgstatus 1\\r') #switch to DNP mode\n",
    "    s.read_all()\n",
    "    #s.write('wgstatus?\\r') #check wg status\n",
    "    #wg_status1= int(s.readline()) #read wg status as an integer\n",
    "    #print \"wg status1:\", wg_status1 #print wg status\n",
    "    winsound.Beep(1000,300)\n",
    "    set_power = 10.0\n",
    "    s.write('power %d\\r'%(round(set_power*10)))\n",
    "    s.write('power?\\r')\n",
    "    check_set_power = float(s.readline())/10.\n",
    "    print \"power is set to\",check_set_power\n",
    "    winsound.Beep(1000, 300) #signal to begin running through frequencies\n",
    "    for j,f in enumerate(freq):\n",
    "        time.sleep(0.5) #time between frequencies\n",
    "        winsound.Beep(500, 300) #signal frequency change\n",
    "        s.write('freq %.1f\\r'%(mw_freq/1e3)) #changing frequency values to a string for Bridge12 to read\n",
    "        s.write('rxpowerdbm?\\r')\n",
    "        rxvalues[j]=float(s.readline())\n",
    "        s.write('txpowerdbm?\\r')\n",
    "        txvalues[j]=float(s.readline())\n",
    "    winsound.Beep(1000, 300) #signal when finished running through frequencies\n",
    "    time.sleep(5) #time to process\n",
    "    s.write('wgstatus 0\\r')\n",
    "    #s.write('wgstatus?\\r')\n",
    "    #wg_status0 = int(s.readline())\n",
    "    print \"wg status0:\", wg_status0\n",
    "    print \"final:\",s.read_all() #print any values coming out from \"with\" loop\n",
    "plot(freq, rxvalues, alpha=0.5, label='Rx')\n",
    "plot(freq, txvalues, alpha=0.5, label='Tx')\n",
    "legend()"
   ]
  },
  {
   "cell_type": "code",
   "execution_count": 53,
   "metadata": {},
   "outputs": [
    {
     "name": "stdout",
     "output_type": "stream",
     "text": [
      "\n"
     ]
    }
   ],
   "source": [
    "with serial.Serial(thisport, timeout=1, baudrate=115200) as s:\n",
    "    s.read_until('Started\\r\\n') #read this instead of time sleep\n",
    "    s.write('power 0\\r')\n",
    "    time.sleep(10)"
   ]
  },
  {
   "cell_type": "code",
   "execution_count": 66,
   "metadata": {
    "scrolled": true
   },
   "outputs": [
    {
     "name": "stdout",
     "output_type": "stream",
     "text": [
      "wgstatus: ''\n",
      "wgstatus: 'ERROR\\r\\n'\n",
      "wgstatus: 'ERROR\\r\\n'\n",
      "wgstatus: 'ERROR\\r\\n'\n",
      "wgstatus: 'ERROR\\r\\n'\n",
      "wgstatus: 'ERROR\\r\\n'\n",
      "wgstatus: 'ERROR\\r\\n'\n",
      "wgstatus: 'ERROR\\r\\n'\n",
      "wgstatus: 'ERROR\\r\\n'\n",
      "wgstatus: 'ERROR\\r\\n'\n"
     ]
    }
   ],
   "source": [
    "with serial.Serial(thisport, timeout=1, baudrate=115200) as s:\n",
    "    s.read_until('Started\\r\\n')\n",
    "    #s.write('power 100\\r')\n",
    "    for j in range(10):\n",
    "        time.sleep(5)\n",
    "        s.write('wgstatus?\\r')\n",
    "        print \"wgstatus:\",repr(s.readline())\n",
    "    #print \"power:\", int(s.readline())"
   ]
  },
  {
   "cell_type": "code",
   "execution_count": 54,
   "metadata": {},
   "outputs": [
    {
     "data": {
      "text/plain": [
       "9505000.0"
      ]
     },
     "execution_count": 54,
     "metadata": {},
     "output_type": "execute_result"
    }
   ],
   "source": [
    "9.505e9/1e3"
   ]
  },
  {
   "cell_type": "code",
   "execution_count": 59,
   "metadata": {},
   "outputs": [
    {
     "name": "stdout",
     "output_type": "stream",
     "text": [
      "done\n"
     ]
    }
   ],
   "source": [
    "with serial.Serial(thisport, timeout=1, baudrate=115200) as s:\n",
    "    s.read_until('Started\\r\\n')\n",
    "    time.sleep(10)\n",
    "    winsound.Beep(700,300)\n",
    "    s.write('freq 9505000.0/r')\n",
    "    winsound.Beep(500,300)\n",
    "print \"done\""
   ]
  },
  {
   "cell_type": "code",
   "execution_count": null,
   "metadata": {
    "collapsed": true
   },
   "outputs": [],
   "source": [
    "with serial.Serial(thisport, timeout=1, baudrate=115200) as s:\n",
    "    s.read_until('Started\\r\\n')\n",
    "    s.write('power 0\\r')\n",
    "    s.write('power?\\r')\n",
    "    print \"power:\", int(s.readline())\n",
    "    winsound.Beep(1000,300)\n",
    "    s.write('rfstatus 1\\r')\n",
    "    s.write('rfstatus?\\r')\n",
    "    print \"rfstatus:\", int(s.readline())\n",
    "    winsound.Beep(1000,300)\n",
    "    time.sleep(10)\n",
    "print \"done\""
   ]
  },
  {
   "cell_type": "code",
   "execution_count": null,
   "metadata": {
    "collapsed": true
   },
   "outputs": [],
   "source": [
    "with serial.Serial(thisport, timeout=1, baudrate=115200) as s:\n",
    "    s.read_until('Started\\r\\n')\n",
    "    s.write('power 0\\r')\n",
    "    s.write('power?\\r')\n",
    "    print \"power:\", int(s.readline())\n",
    "    winsound.Beep(1000,300)\n",
    "    time.sleep(5)\n",
    "    s.write('wgstatus 1\\r')\n",
    "    s.write('wgstatus?\\r')\n",
    "    print \"wgstatus:\", int(s.readline())\n",
    "    winsound.Beep(1000,300)\n",
    "    time.sleep(5)\n",
    "    s.write('ampstatus 1\\r')\n",
    "    s.write('ampstatus?\\r')\n",
    "    print \"ampstatus:\", int(s.readline())\n",
    "    winsound.Beep(1000,300)\n",
    "    time.sleep(5)\n",
    "    s.write('rfstatus 1\\r')\n",
    "    s.write('rfstatus?\\r')\n",
    "    print \"rfstatus:\", int(s.readline())\n",
    "    winsound.Beep(1000,300)\n",
    "    time.sleep(10)\n",
    "    s.write('rfstatus 0\\r')\n",
    "    s.write('rfstatus?\\r')\n",
    "    print \"rfstatus:\" int(s.readline)\n",
    "    s.write('ampstatus 0\\r')\n",
    "    s.write('ampstatus?\\r')\n",
    "    print \"ampstatus:\" int(s.readline())\n",
    "print \"done\""
   ]
  },
  {
   "cell_type": "code",
   "execution_count": null,
   "metadata": {
    "collapsed": true
   },
   "outputs": [],
   "source": [
    "freq = linspace(9.845e9,9.855e9, 50)\n",
    "rxvalues = zeros(len(freq))\n",
    "with serial.Serial(thisport, timeout=1, baudrate=115200) as s:\n",
    "    s.read_untill('Started\\r\\n')\n",
    "    s.write('power 100\\r')\n",
    "    s.write('power?\\r')\n",
    "    print \"power:\", int(s.readline())\n",
    "    winsound.Beep(1000,300)\n",
    "    time.sleep(5)\n",
    "    s.write('wgstatus 1\\r')\n",
    "    s.write('wgstatus?\\r')\n",
    "    print \"wgstatus:\", int(s.readline())\n",
    "    winsound.Beep(1000,300)\n",
    "    time.sleep(5)\n",
    "    s.write('ampstatus 1\\r')\n",
    "    s.write('ampstatus?\\r')\n",
    "    print \"ampstatus:\", int(s.readline())\n",
    "    winsound.Beep(1000,300)\n",
    "    time.sleep(5)\n",
    "    s.write('rfstatus 1\\r')\n",
    "    s.write('rfstatus?\\r')\n",
    "    print \"rfstatus:\", int(s.readline())\n",
    "    winsound.Beep(1000,300)\n",
    "    for j, f in enumerate(freq): \n",
    "        time.sleep(0.5) \n",
    "        winsound.Beep(500, 300) \n",
    "        s.write('freq %.3f\\r'%(freq/1e3)) \n",
    "        s.write('rxpowerdbm?\\r')\n",
    "        rxvalues[j]=float(s.readline())\n",
    "    winsound.Beep(1000,300)\n",
    "    time.sleep(5)\n",
    "    s.write('rfstatus 0\\r')\n",
    "    s.write('rfstatus?\\r')\n",
    "    print \"rfstatus:\", int(s.readline())\n",
    "    winsound.Beep(1000,300)\n",
    "    time.sleep(5)\n",
    "    s.write('ampstatus 0\\r')\n",
    "    s.write('ampstatus?\\r')\n",
    "    print \"ampstatus:\", int(s.readline())\n",
    "    winsound.Beep(1000,300)\n",
    "    time.sleep(5)\n",
    "    s.write('power 0\\r')\n",
    "    s.write('power?\\r')\n",
    "    print \"power:\", int(s.readline())\n",
    "    winsound.Beep(1000,300)\n",
    "    time.sleep(5)\n",
    "plot(freq, rxvalues, alpha=1.0, label='Rx')\n",
    "legend()\n"
   ]
  }
 ],
 "metadata": {
  "kernelspec": {
   "display_name": "Python 2",
   "language": "python",
   "name": "python2"
  },
  "language_info": {
   "codemirror_mode": {
    "name": "ipython",
    "version": 2
   },
   "file_extension": ".py",
   "mimetype": "text/x-python",
   "name": "python",
   "nbconvert_exporter": "python",
   "pygments_lexer": "ipython2",
   "version": "2.7.13"
  }
 },
 "nbformat": 4,
 "nbformat_minor": 2
}
