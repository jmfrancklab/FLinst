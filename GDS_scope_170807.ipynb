{
 "cells": [
  {
   "cell_type": "code",
   "execution_count": 1,
   "metadata": {},
   "outputs": [
    {
     "name": "stdout",
     "output_type": "stream",
     "text": [
      "Populating the interactive namespace from numpy and matplotlib\n"
     ]
    }
   ],
   "source": [
    "%pylab inline\n",
    "from serial.tools.list_ports import comports\n",
    "import serial"
   ]
  },
  {
   "cell_type": "markdown",
   "metadata": {},
   "source": [
    "What serial ports are available?\n",
    "--> this is not used, but just shows what the results of ``comports()`` looks like"
   ]
  },
  {
   "cell_type": "code",
   "execution_count": 3,
   "metadata": {},
   "outputs": [
    {
     "data": {
      "text/plain": [
       "[('COM3',\n",
       "  'Intel(R) Active Management Technology - SOL (COM3)',\n",
       "  'PCI\\\\VEN_8086&DEV_A13D&SUBSYS_06B91028&REV_31\\\\3&11583659&0&B3'),\n",
       " ('COM1', 'Communications Port (COM1)', 'ACPI\\\\PNP0501\\\\0'),\n",
       " ('COM4', 'AFG CDC Device (COM4)', 'USB VID:PID=2184:001C SNR=GEQ904866')]"
      ]
     },
     "execution_count": 3,
     "metadata": {},
     "output_type": "execute_result"
    }
   ],
   "source": [
    "[j for j in comports()]"
   ]
  },
  {
   "cell_type": "markdown",
   "metadata": {},
   "source": [
    "Here, I search through the comports in order to identify the instrument that I'm interested in.  This (or something like this) should work on either Windows or Mac/Linux.\n",
    "I can use this to initialize a class."
   ]
  },
  {
   "cell_type": "code",
   "execution_count": null,
   "metadata": {},
   "outputs": [],
   "source": [
    "def id_instrument(textidn):\n",
    "    \"\"\"Identify the instrument that returns an ID string containing ``textidn``\n",
    "    \"\"\"\n",
    "    for j in comports():\n",
    "        port_id = j[0] # based on the previous, this is the port number\n",
    "        with serial.Serial(port_id) as s:\n",
    "            s.write('*idn?\\n')\n",
    "            result = s.readline()\n",
    "            if textidn in result:\n",
    "                return port_id\n",
    "def instrument_instance(textidn, **kwargs):\n",
    "    \"\"\"Return an instance of the ``Serial`` class corresponding to the instrument that returns ``textidn`` as part of the id string.\n",
    "    \n",
    "    Parameters\n",
    "    ==========\n",
    "\n",
    "    textidn : str\n",
    "        \n",
    "        A string used to identify the instrument.\n",
    "        Specifically, the instrument responds to the ``*idn?`` command\n",
    "        with a string that includes ``textidn``.\n",
    "    \"\"\"\n",
    "    return serial.Serial(id_instrument(textidn), **kwargs)\n",
    "with instrument_instance('GDS-3254') as s:\n",
    "    s.write('*idn?\\n')\n",
    "    print s.readline()"
   ]
  },
  {
   "cell_type": "markdown",
   "metadata": {},
   "source": [
    "Note that I can now use ``instrument_instance`` in place of ``serial.Serial``, except that ``instrument_instance`` accepts a string identifying the instrument.\n",
    "I paste your code with minimal modification  and some reorganization below."
   ]
  },
  {
   "cell_type": "code",
   "execution_count": null,
   "metadata": {},
   "outputs": [],
   "source": [
    "def retrieve_waveform(instname='GDS-3254'):\n",
    "    \"\"\"Retrieve waveform and associated parameters form the scope.\n",
    "\n",
    "    Comprises the following steps:\n",
    "\n",
    "    * opens the port to the scope\n",
    "    * acquires what is saved in memory as string\n",
    "    * Divides this string at hashtag which separates settings from waveform\n",
    "\n",
    "    Parameters\n",
    "    ==========\n",
    "\n",
    "    instname : str\n",
    "\n",
    "        The instrument name.  Specifically, a string that's returned as\n",
    "        part of the response to the ``*idn?`` command.\n",
    "\n",
    "    Returns\n",
    "    =======\n",
    "\n",
    "    x_axis : ndarray\n",
    "\n",
    "        The *x*-axis (time-base) of the data.\n",
    "\n",
    "    data : ndarray\n",
    "\n",
    "        A 1-d array containing the scope data.\n",
    "\n",
    "    params : dict\n",
    "\n",
    "        A dictionary of the parameters returned by the scope.\n",
    "    \"\"\"\n",
    "    params = {}\n",
    "    with instrument_instance(instname) as s:\n",
    "        s.write(':ACQ1:MEM?\\n')\n",
    "        def upto_hashtag():\n",
    "            this_char = s.read(1)\n",
    "            this_line = ''\n",
    "            while this_char != '#':          \n",
    "                this_line += this_char\n",
    "                this_char = s.read(1)\n",
    "            return this_line\n",
    "\n",
    "        #Further divides settings\n",
    "        preamble = upto_hashtag().split(';')\n",
    "        \n",
    "        #Retrieves 'memory' of 25000 from settings\n",
    "        #Waveform data is 50,000 bytes of binary data (2*mem)\n",
    "        mem = int(preamble[0].split(',')[1])\n",
    "        \n",
    "        #Generates list of parameters in the preamble\n",
    "        param = dict([tuple(x.split(',')) for x in preamble if len(x.split(',')) == 2])\n",
    "        \n",
    "        #Reads waveform data of 50,000 bytes\n",
    "        s.read(6)# length of 550000\n",
    "        data = s.read(50001)\n",
    "        assert data[-1] == '\\n', \"data is not followed by newline!\"\n",
    "        data = data[:-1]\n",
    "\n",
    "    # convert the binary string\n",
    "    data_array = fromstring(data,dtype='i2')\n",
    "    data_array =  double(data_array)/double(2**(2*8-1))\n",
    "\n",
    "    # I could do the following\n",
    "    #x_axis = r_[0:len(data_array)] * float(param['Sampling Period'])\n",
    "    # but since I'm \"using up\" the sampling period, do this:\n",
    "    x_axis = r_[0:len(data_array)] * float(param.pop('Sampling Period'))\n",
    "    # r_[... is used by numpy to construct arrays on the fly\n",
    "\n",
    "    # Similarly, use V/div scale to scale the y values of the data\n",
    "    data_array *= float(param.pop('Vertical Scale'))/0.2 # we saw\n",
    "    #              empirically that 0.2 corresponds to about 1 division\n",
    "\n",
    "    return x_axis,data_array,param"
   ]
  },
  {
   "cell_type": "markdown",
   "metadata": {},
   "source": [
    "The previous cell only ***defines*** the function ``retrieve_waveform``.  Now I have to actually call (run) it!:"
   ]
  },
  {
   "cell_type": "code",
   "execution_count": null,
   "metadata": {},
   "outputs": [],
   "source": [
    "x_axis,data,param = retrieve_waveform()"
   ]
  },
  {
   "cell_type": "markdown",
   "metadata": {},
   "source": [
    "Next, show what the ``param`` dictionary looks like (note that the items that we've popped have been removed)"
   ]
  },
  {
   "cell_type": "code",
   "execution_count": null,
   "metadata": {},
   "outputs": [],
   "source": [
    "param"
   ]
  },
  {
   "cell_type": "markdown",
   "metadata": {},
   "source": [
    "Plots waveform data → I manually scale by μs"
   ]
  },
  {
   "cell_type": "code",
   "execution_count": null,
   "metadata": {},
   "outputs": [],
   "source": [
    "title(param['Source'])\n",
    "plot(x_axis/1e-6,data)\n",
    "xlabel(r'$t$ / $\\mu s$')"
   ]
  },
  {
   "cell_type": "markdown",
   "metadata": {},
   "source": [
    "I'm not worrying about automatically interpreting the units here, because that will all be handled when we make our special data object.\n",
    "\n",
    "I do want to check that I'm interpreting the y scale correctly, so let's look at the peak to peak voltage here, and compare to what we measure with cursors on the screen:"
   ]
  },
  {
   "cell_type": "code",
   "execution_count": null,
   "metadata": {},
   "outputs": [],
   "source": [
    "data.max()-data.min()"
   ]
  }
 ],
 "metadata": {
  "kernelspec": {
   "display_name": "Python 2",
   "language": "python",
   "name": "python2"
  },
  "language_info": {
   "codemirror_mode": {
    "name": "ipython",
    "version": 2
   },
   "file_extension": ".py",
   "mimetype": "text/x-python",
   "name": "python",
   "nbconvert_exporter": "python",
   "pygments_lexer": "ipython2",
   "version": "2.7.13"
  }
 },
 "nbformat": 4,
 "nbformat_minor": 2
}
