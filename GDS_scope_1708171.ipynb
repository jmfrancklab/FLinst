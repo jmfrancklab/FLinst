{
 "cells": [
  {
   "cell_type": "code",
   "execution_count": null,
   "metadata": {
    "collapsed": true
   },
   "outputs": [],
   "source": []
  },
  {
   "cell_type": "code",
   "execution_count": null,
   "metadata": {
    "collapsed": true
   },
   "outputs": [],
   "source": [
    "%pylab inline\n",
    "#from pyspecdata import *\n",
    "from serial.tools.list_ports import comports\n",
    "import serial\n",
    "import logging,os\n",
    "#init_logging() # from pyspecdata --> goes to ~/pyspecdata.log\n",
    "\n",
    "# the following just sets up a log file -- ignore\n",
    "# (copy of pyspecdata init_logging)\n",
    "def strm(*args):\n",
    "    return ' '.join([str(j) for j in args])\n",
    "FORMAT = \"--> %(filename)s(%(lineno)s):%(name)s %(funcName)20s %(asctime)20s\\n%(levelname)s: %(message)s\"\n",
    "log_filename = os.path.join(os.path.expanduser('~'),'pyspecdata.log')\n",
    "if os.path.exists(log_filename):\n",
    "    # manually remove, and then use append -- otherwise, it won't write to\n",
    "    # file immediately\n",
    "    os.remove(log_filename)\n",
    "logging.basicConfig(format=FORMAT,\n",
    "        filename=log_filename,\n",
    "        filemode='a',\n",
    "        )\n",
    "logger = logging.getLogger('GDS_scope')\n",
    "logger.setLevel(logging.DEBUG)"
   ]
  },
  {
   "cell_type": "markdown",
   "metadata": {},
   "source": [
    "Here, I search through the comports in order to identify the instrument that I'm interested in.  This (or something like this) should work on either Windows or Mac/Linux.\n",
    "I can use this to initialize a class.\n",
    "Note that later, we might want to replace this with a class that relies on pyVISA rather than directly calling the serial connection."
   ]
  },
  {
   "cell_type": "code",
   "execution_count": null,
   "metadata": {
    "collapsed": true
   },
   "outputs": [],
   "source": [
    "super?"
   ]
  },
  {
   "cell_type": "code",
   "execution_count": null,
   "metadata": {
    "collapsed": true
   },
   "outputs": [],
   "source": [
    "class SerialInstrument (object):\n",
    "    \"\"\"Class to describe an instrument connected using pyserial.\n",
    "    Provides initialization (:func:`__init__`) to start the connection,\n",
    "    as well as :func:`write` :func:`read` and :func:`respond` functions.\n",
    "    Can be used inside a with block.\n",
    "    \"\"\"\n",
    "    def __init__(self,textidn, **kwargs):\n",
    "        \"\"\"Initialize a serial connection based on the identifier string\n",
    "        `textidn`, and assign it to the `connection` attribute\n",
    "\n",
    "        Parameters\n",
    "        ==========\n",
    "\n",
    "        textidn : str\n",
    "            \n",
    "            A string used to identify the instrument.\n",
    "            Specifically, the instrument responds to the ``*idn?`` command\n",
    "            with a string that includes ``textidn``.\n",
    "        \"\"\"\n",
    "        self.connection = serial.Serial(self.id_instrument(textidn), **kwargs)\n",
    "        logger.debug('opened serial connection, and set to connection attribute')\n",
    "        return\n",
    "    def __enter__(self):\n",
    "        return self\n",
    "    def __exit__(self, exception_type, exception_value, traceback):\n",
    "        self.connection.close()\n",
    "        return\n",
    "    def write(self,*args):\n",
    "        \"\"\"Send info to the instrument.  Take a comma-separated list of\n",
    "        arguments, which are converted to strings and separated by a space.\n",
    "        (Similar to a print command, but directed at the instrument)\"\"\"\n",
    "        text = ' '.join([str(j) for j in args])\n",
    "        logger.debug(strm(\"when trying to write, port looks like this:\",self.connection))\n",
    "        self.connection.write(text+'\\n')\n",
    "        return\n",
    "    def read(self, *args, **kwargs):\n",
    "        return self.connection.read(*args, **kwargs)\n",
    "    def flush(self):\n",
    "        \"\"\"Flush the input (say we didn't read all of it, *etc.*)\n",
    "        \n",
    "        Note that there are routines called \"flush\" in serial, but these\n",
    "        seem to not be useful.\n",
    "        \"\"\"\n",
    "        old_timeout = self.connection.timeout\n",
    "        self.connection.timeout = 1\n",
    "        result = 'blah'\n",
    "        while len(result)>0:\n",
    "            result = self.connection.read(2000)\n",
    "        self.connection.timeout = old_timeout\n",
    "        return\n",
    "    def respond(self,*args, **kwargs):\n",
    "        \"\"\"Same as write, but also returns the result\n",
    "        \n",
    "        Parameters\n",
    "        ----------\n",
    "        message_len : int\n",
    "\n",
    "            If present, read a message of a specified number of bytes.\n",
    "            if not present, return a text line (readline).\n",
    "        \"\"\"\n",
    "        message_len = None\n",
    "        if 'message_len' in kwargs:\n",
    "            message_len = kwargs.pop('message_len')\n",
    "        self.write(*args)\n",
    "        old_timeout = self.connection.timeout\n",
    "        self.connection.timeout = None\n",
    "        if message_len is None:\n",
    "            retval = self.connection.readline()\n",
    "        else:\n",
    "            retval = self.connection.read(message_len)\n",
    "        self.connection.timeout = old_timeout\n",
    "        return retval\n",
    "    def id_instrument(self,textidn):\n",
    "        \"\"\"A helper function for :func:`init` Identify the instrument that returns an ID string containing ``textidn``\n",
    "        \"\"\"\n",
    "        for j in comports():\n",
    "            port_id = j[0] # based on the previous, this is the port number\n",
    "            with serial.Serial(port_id) as s:\n",
    "                s.write('*idn?\\n')\n",
    "                result = s.readline()\n",
    "                if textidn in result:\n",
    "                    return port_id"
   ]
  },
  {
   "cell_type": "markdown",
   "metadata": {},
   "source": [
    "Note that I can now use ``SerialInstrument`` in place of ``serial.Serial``, except that ``SerialInstrument`` accepts a string identifying the instrument, and adds and changes various functions inside the class to make them more convenient."
   ]
  },
  {
   "cell_type": "code",
   "execution_count": null,
   "metadata": {
    "collapsed": true
   },
   "outputs": [],
   "source": [
    "with SerialInstrument('GDS-3254') as s:\n",
    "    logger.debug(\"running identify using the SerialInstrument class\")\n",
    "    logger.debug(strm(\"SerialInstrument instance looks like this:\",s))\n",
    "    print s.respond('*idn?')\n",
    "    logger.debug(\"done running identify\")"
   ]
  },
  {
   "cell_type": "markdown",
   "metadata": {},
   "source": [
    "Next, we can "
   ]
  },
  {
   "cell_type": "code",
   "execution_count": null,
   "metadata": {
    "collapsed": true
   },
   "outputs": [],
   "source": [
    "class GDS_scope (SerialInstrument):\n",
    "    def __init__(self,model='3254'):\n",
    "        super(self.__class__,self).__init__('GDS-'+model)\n",
    "        logger.debug(strm(\"identify from within GDS\",super(self.__class__,self).respond('*idn?')))\n",
    "        logger.debug(\"I should have just opened the serial connection\")\n",
    "        return\n",
    "    def waveform(self,instname='GDS-3254'):\n",
    "        \"\"\"Retrieve waveform and associated parameters form the scope.\n",
    "\n",
    "        Comprises the following steps:\n",
    "\n",
    "        * opens the port to the scope\n",
    "        * acquires what is saved in memory as string\n",
    "        * Divides this string at hashtag which separates settings from waveform\n",
    "\n",
    "        Parameters\n",
    "        ==========\n",
    "\n",
    "        instname : str\n",
    "\n",
    "            The instrument name.  Specifically, a string that's returned as\n",
    "            part of the response to the ``*idn?`` command.\n",
    "\n",
    "        Returns\n",
    "        =======\n",
    "\n",
    "        x_axis : ndarray\n",
    "\n",
    "            The *x*-axis (time-base) of the data.\n",
    "\n",
    "        data : ndarray\n",
    "\n",
    "            A 1-d array containing the scope data.\n",
    "\n",
    "        param : dict\n",
    "\n",
    "            A dictionary of the parameters returned by the scope.\n",
    "        \"\"\"\n",
    "        \n",
    "        self.write(':ACQ1:MEM?')\n",
    "        def upto_hashtag():\n",
    "            this_char = self.read(1)\n",
    "            this_line = ''\n",
    "            while this_char != '#':          \n",
    "                this_line += this_char\n",
    "                this_char = self.read(1)\n",
    "            return this_line\n",
    "\n",
    "        #Further divides settings\n",
    "        preamble = upto_hashtag().split(';')\n",
    "        \n",
    "        #Retrieves 'memory' of 25000 from settings\n",
    "        #Waveform data is 50,000 bytes of binary data (2*mem)\n",
    "        mem = int(preamble[0].split(',')[1])\n",
    "        \n",
    "        #Generates list of parameters in the preamble\n",
    "        param = dict([tuple(x.split(',')) for x in preamble if len(x.split(',')) == 2])\n",
    "        \n",
    "        #Reads waveform data of 50,000 bytes\n",
    "        self.read(6)# length of 550000\n",
    "        data = self.read(50001)\n",
    "        assert data[-1] == '\\n', \"data is not followed by newline!\"\n",
    "        data = data[:-1]\n",
    "\n",
    "        # convert the binary string\n",
    "        data_array = fromstring(data,dtype='i2')\n",
    "        data_array =  double(data_array)/double(2**(2*8-1))\n",
    "\n",
    "        # I could do the following\n",
    "        #x_axis = r_[0:len(data_array)] * float(param['Sampling Period'])\n",
    "        # but since I'm \"using up\" the sampling period, do this:\n",
    "        x_axis = r_[0:len(data_array)] * float(param.pop('Sampling Period'))\n",
    "        # r_[... is used by numpy to construct arrays on the fly\n",
    "\n",
    "        # Similarly, use V/div scale to scale the y values of the data\n",
    "        data_array *= float(param.pop('Vertical Scale'))/0.2 # we saw\n",
    "        #              empirically that 0.2 corresponds to about 1 division\n",
    "\n",
    "        return x_axis,data_array,param"
   ]
  },
  {
   "cell_type": "markdown",
   "metadata": {},
   "source": [
    "The previous cell only ***defines*** the function ``retrieve_waveform``.  Now I have to actually call (run) it!:"
   ]
  },
  {
   "cell_type": "code",
   "execution_count": null,
   "metadata": {
    "collapsed": true
   },
   "outputs": [],
   "source": [
    "with GDS_scope() as g:\n",
    "    g.flush()\n",
    "    x_axis,data,param = g.waveform()"
   ]
  },
  {
   "cell_type": "markdown",
   "metadata": {},
   "source": [
    "Next, show what the ``param`` dictionary looks like (note that the items that we've popped have been removed)"
   ]
  },
  {
   "cell_type": "code",
   "execution_count": null,
   "metadata": {
    "collapsed": true
   },
   "outputs": [],
   "source": [
    "param"
   ]
  },
  {
   "cell_type": "markdown",
   "metadata": {},
   "source": [
    "Plots waveform data → I manually scale by μs"
   ]
  },
  {
   "cell_type": "code",
   "execution_count": null,
   "metadata": {
    "collapsed": true
   },
   "outputs": [],
   "source": [
    "title(param['Source'])\n",
    "plot(x_axis/1e-6,data)\n",
    "xlabel(r'$t$ / $\\mu s$')"
   ]
  },
  {
   "cell_type": "markdown",
   "metadata": {},
   "source": [
    "I'm not worrying about automatically interpreting the units here, because that will all be handled when we make our special data object.\n",
    "\n",
    "I do want to check that I'm interpreting the y scale correctly, so let's look at the peak to peak voltage here, and compare to what we measure with cursors on the screen:"
   ]
  },
  {
   "cell_type": "code",
   "execution_count": null,
   "metadata": {
    "collapsed": true
   },
   "outputs": [],
   "source": [
    "data.max()-data.min()"
   ]
  },
  {
   "cell_type": "markdown",
   "metadata": {},
   "source": [
    "the following is just so I can also run this as a script"
   ]
  },
  {
   "cell_type": "code",
   "execution_count": null,
   "metadata": {
    "collapsed": true
   },
   "outputs": [],
   "source": [
    "show()"
   ]
  }
 ],
 "metadata": {
  "kernelspec": {
   "display_name": "Python 2",
   "language": "python",
   "name": "python2"
  },
  "language_info": {
   "codemirror_mode": {
    "name": "ipython",
    "version": 2
   },
   "file_extension": ".py",
   "mimetype": "text/x-python",
   "name": "python",
   "nbconvert_exporter": "python",
   "pygments_lexer": "ipython2",
   "version": "2.7.13"
  }
 },
 "nbformat": 4,
 "nbformat_minor": 2
}
