{
 "cells": [
  {
   "cell_type": "code",
   "execution_count": 1,
   "metadata": {},
   "outputs": [
    {
     "name": "stdout",
     "output_type": "stream",
     "text": [
      "Populating the interactive namespace from numpy and matplotlib\n"
     ]
    }
   ],
   "source": [
    "%pylab inline\n",
    "%load_ext pyspecdata.ipy\n",
    "from Instruments import *\n",
    "from pyspecdata import *\n",
    "import time"
   ]
  },
  {
   "cell_type": "code",
   "execution_count": 2,
   "metadata": {},
   "outputs": [
    {
     "name": "stdout",
     "output_type": "stream",
     "text": [
      "0\n",
      "\n",
      "first time: 1\n",
      "\n",
      "second time: 1\n",
      "\n",
      "third time: 1\n",
      "\n"
     ]
    }
   ],
   "source": [
    "with AFG() as a:\n",
    "    a.reset()\n",
    "    cmd = 'SOUR1:SWE:STAT?'\n",
    "    print a.respond(cmd)\n",
    "    a.write('SOUR1:SWE:STAT ON')\n",
    "    a.check_idn()\n",
    "    print 'first time:',a.respond(cmd)\n",
    "    print 'second time:',a.respond(cmd)\n",
    "    print 'third time:',a.respond(cmd)\n",
    "    #print \"CH1 sweep set to\",a.CH1.sweep\n",
    "    #a.CH1.sweep = True\n",
    "    #print \"CH1 sweep set to\",a.CH1.sweep\n",
    "    \n",
    "    \n",
    "    #rint \"now, I turn on the output\"\n",
    "    #.CH1.output = True\n",
    "    #print \"now, capture the data\"\n",
    "    #time.sleep(1)\n",
    "    # grab it on the scope\n",
    "    #with GDS_scope() as g:\n",
    "     #   g.autoset()\n",
    "      #  data = g.waveform(ch=2)\n",
    "   # print \"turn off the output again\"\n",
    "    #a.CH1.output = False"
   ]
  },
  {
   "cell_type": "code",
   "execution_count": null,
   "metadata": {
    "collapsed": true
   },
   "outputs": [],
   "source": [
    "a.check_idn?"
   ]
  },
  {
   "cell_type": "code",
   "execution_count": null,
   "metadata": {
    "collapsed": true
   },
   "outputs": [],
   "source": []
  }
 ],
 "metadata": {
  "kernelspec": {
   "display_name": "Python 2",
   "language": "python",
   "name": "python2"
  },
  "language_info": {
   "codemirror_mode": {
    "name": "ipython",
    "version": 2
   },
   "file_extension": ".py",
   "mimetype": "text/x-python",
   "name": "python",
   "nbconvert_exporter": "python",
   "pygments_lexer": "ipython2",
   "version": "2.7.13"
  }
 },
 "nbformat": 4,
 "nbformat_minor": 2
}
