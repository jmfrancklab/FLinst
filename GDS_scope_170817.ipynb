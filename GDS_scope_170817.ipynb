{
 "cells": [
  {
   "cell_type": "code",
   "execution_count": 1,
   "metadata": {},
   "outputs": [],
   "source": [
    "%load_ext pyspecdata.ipy\n",
    "from pyspecdata import *\n",
    "from serial.tools.list_ports import comports\n",
    "import serial"
   ]
  },
  {
   "cell_type": "markdown",
   "metadata": {},
   "source": [
    "the following just sets up a log file -- ignore\n",
    "(copy of pyspecdata init_logging)"
   ]
  },
  {
   "cell_type": "code",
   "execution_count": 2,
   "metadata": {},
   "outputs": [],
   "source": [
    "import logging,os\n",
    "init_logging() # from pyspecdata --> goes to ~/pyspecdata.log\n",
    "def strm(*args):\n",
    "    return ' '.join([str(j) for j in args])\n",
    "FORMAT = \"--> %(filename)s(%(lineno)s):%(name)s %(funcName)20s %(asctime)20s\\n%(levelname)s: %(message)s\"\n",
    "#log_filename = os.path.join(os.path.expanduser('~'),'pyspecdata.log')\n",
    "#if os.path.exists(log_filename):\n",
    "#    # manually remove, and then use append -- otherwise, it won't write to\n",
    "#    # file immediately\n",
    "#    os.remove(log_filename)\n",
    "#logging.basicConfig(format=FORMAT,\n",
    "#        filename=log_filename,\n",
    "#        filemode='a',\n",
    "#        )\n",
    "logger = logging.getLogger('GDS_scope')\n",
    "logger.setLevel(logging.DEBUG)"
   ]
  },
  {
   "cell_type": "markdown",
   "metadata": {},
   "source": [
    "Here, I search through the comports in order to identify the instrument that I'm interested in.  This (or something like this) should work on either Windows or Mac/Linux.\n",
    "I can use this to initialize a class.\n",
    "Note that later, we might want to replace this with a class that relies on pyVISA rather than directly calling the serial connection."
   ]
  },
  {
   "cell_type": "code",
   "execution_count": 3,
   "metadata": {},
   "outputs": [],
   "source": [
    "class SerialInstrument (object):\n",
    "    \"\"\"Class to describe an instrument connected using pyserial.\n",
    "    Provides initialization (:func:`__init__`) to start the connection,\n",
    "    as well as :func:`write` :func:`read` and :func:`respond` functions.\n",
    "    Can be used inside a with block.\n",
    "    \"\"\"\n",
    "    def __init__(self,textidn, **kwargs):\n",
    "        \"\"\"Initialize a serial connection based on the identifier string\n",
    "        `textidn`, and assign it to the `connection` attribute\n",
    "\n",
    "        Parameters\n",
    "        ==========\n",
    "\n",
    "        textidn : str\n",
    "            \n",
    "            A string used to identify the instrument.\n",
    "            Specifically, the instrument responds to the ``*idn?`` command\n",
    "            with a string that includes ``textidn``.\n",
    "            If textidn is set to None, just show the available instruments.\n",
    "        \"\"\"\n",
    "        if textidn is None:\n",
    "            self.show_instruments()\n",
    "        self.connection = serial.Serial(self.id_instrument(textidn), **kwargs)\n",
    "        assert self.connection.isOpen(), \"For some reason, I couldn't open the connection!\"\n",
    "        logger.debug('opened serial connection, and set to connection attribute')\n",
    "        return\n",
    "    def __enter__(self):\n",
    "        return self\n",
    "    def __exit__(self, exception_type, exception_value, traceback):\n",
    "        self.connection.close()\n",
    "        return\n",
    "    def write(self,*args):\n",
    "        \"\"\"Send info to the instrument.  Take a comma-separated list of\n",
    "        arguments, which are converted to strings and separated by a space.\n",
    "        (Similar to a print command, but directed at the instrument)\"\"\"\n",
    "        text = ' '.join([str(j) for j in args])\n",
    "        logger.debug(strm(\"when trying to write, port looks like this:\",self.connection))\n",
    "        self.connection.write(text+'\\n')\n",
    "        return\n",
    "    def read(self, *args, **kwargs):\n",
    "        return self.connection.read(*args, **kwargs)\n",
    "    def flush(self):\n",
    "        \"\"\"Flush the input (say we didn't read all of it, *etc.*)\n",
    "        \n",
    "        Note that there are routines called \"flush\" in serial, but these\n",
    "        seem to not be useful.\n",
    "        \"\"\"\n",
    "        old_timeout = self.connection.timeout\n",
    "        self.connection.timeout = 1\n",
    "        result = 'blah'\n",
    "        while len(result)>0:\n",
    "            result = self.connection.read(2000)\n",
    "        self.connection.timeout = old_timeout\n",
    "        return\n",
    "    def respond(self,*args, **kwargs):\n",
    "        \"\"\"Same a write, but also returns the result\n",
    "        \n",
    "        Parameters\n",
    "        ----------\n",
    "        message_len : int\n",
    "\n",
    "            If present, read a message of a specified number of bytes.\n",
    "            if not present, return a text line (readline).\n",
    "        \"\"\"\n",
    "        message_len = None\n",
    "        if 'message_len' in kwargs:\n",
    "            message_len = kwargs.pop('message_len')\n",
    "        self.write(*args)\n",
    "        old_timeout = self.connection.timeout\n",
    "        self.connection.timeout = None\n",
    "        if message_len is None:\n",
    "            retval = self.connection.readline()\n",
    "        else:\n",
    "            retval = self.connection.read(message_len)\n",
    "        self.connection.timeout = old_timeout\n",
    "        return retval\n",
    "    def show_instruments(self):\n",
    "        \"\"\"For testing.  Same as :func:`id_instrument`, except that it just prints the idn result from all com ports.\n",
    "        \"\"\"\n",
    "        old_timeout = self.connection.timeout\n",
    "        self.connection.timeout = 0.1\n",
    "        for j in comports():\n",
    "            port_id = j[0] # based on the previous, this is the port number\n",
    "            with serial.Serial(port_id) as s:\n",
    "                assert s.isOpen(), \"For some reason, I couldn't open the connection for %s!\"%str(port_id)\n",
    "                s.write('*idn?\\n')\n",
    "                result = s.readline()\n",
    "                print result\n",
    "        self.connection.timeout = old_timeout\n",
    "    def id_instrument(self,textidn):\n",
    "        \"\"\"A helper function for :func:`init` Identify the instrument that returns an ID string containing ``textidn``\n",
    "        \"\"\"\n",
    "        old_timeout = self.connection.timeout\n",
    "        self.connection.timeout = 0.1\n",
    "        for j in comports():\n",
    "            port_id = j[0] # based on the previous, this is the port number\n",
    "            with serial.Serial(port_id) as s:\n",
    "                assert s.isOpen(), \"For some reason, I couldn't open the connection for %s!\"%str(port_id)\n",
    "                s.write('*idn?\\n')\n",
    "                result = s.readline()\n",
    "                if textidn in result:\n",
    "                    self.connection.timeout = old_timeout\n",
    "                    return port_id\n",
    "        self.connection.timeout = old_timeout\n",
    "        raise RuntimeError(\"I looped through all the com ports and didn't find \"+textidn)"
   ]
  },
  {
   "cell_type": "markdown",
   "metadata": {},
   "source": [
    "Note that I can now use ``SerialInstrument`` in place of ``serial.Serial``, except that ``SerialInstrument`` accepts a string identifying the instrument, and adds and changes various functions inside the class to make them more convenient."
   ]
  },
  {
   "cell_type": "code",
   "execution_count": 4,
   "metadata": {},
   "outputs": [
    {
     "ename": "AttributeError",
     "evalue": "'SerialInstrument' object has no attribute 'connection'",
     "output_type": "error",
     "traceback": [
      "\u001b[1;31m\u001b[0m",
      "\u001b[1;31mAttributeError\u001b[0mTraceback (most recent call last)",
      "\u001b[1;32m<ipython-input-4-144c458e214d>\u001b[0m in \u001b[0;36m<module>\u001b[1;34m()\u001b[0m\n\u001b[1;32m----> 1\u001b[1;33m \u001b[0ms\u001b[0m \u001b[1;33m=\u001b[0m \u001b[0mSerialInstrument\u001b[0m\u001b[1;33m(\u001b[0m\u001b[0mNone\u001b[0m\u001b[1;33m)\u001b[0m\u001b[1;33m\u001b[0m\u001b[0m\n\u001b[0m",
      "\u001b[1;32m<ipython-input-3-cacb5712906c>\u001b[0m in \u001b[0;36m__init__\u001b[1;34m(self, textidn, **kwargs)\u001b[0m\n\u001b[0;32m     20\u001b[0m         \"\"\"\n\u001b[0;32m     21\u001b[0m         \u001b[1;32mif\u001b[0m \u001b[0mtextidn\u001b[0m \u001b[1;32mis\u001b[0m \u001b[0mNone\u001b[0m\u001b[1;33m:\u001b[0m\u001b[1;33m\u001b[0m\u001b[0m\n\u001b[1;32m---> 22\u001b[1;33m             \u001b[0mself\u001b[0m\u001b[1;33m.\u001b[0m\u001b[0mshow_instruments\u001b[0m\u001b[1;33m(\u001b[0m\u001b[1;33m)\u001b[0m\u001b[1;33m\u001b[0m\u001b[0m\n\u001b[0m\u001b[0;32m     23\u001b[0m         \u001b[0mself\u001b[0m\u001b[1;33m.\u001b[0m\u001b[0mconnection\u001b[0m \u001b[1;33m=\u001b[0m \u001b[0mserial\u001b[0m\u001b[1;33m.\u001b[0m\u001b[0mSerial\u001b[0m\u001b[1;33m(\u001b[0m\u001b[0mself\u001b[0m\u001b[1;33m.\u001b[0m\u001b[0mid_instrument\u001b[0m\u001b[1;33m(\u001b[0m\u001b[0mtextidn\u001b[0m\u001b[1;33m)\u001b[0m\u001b[1;33m,\u001b[0m \u001b[1;33m**\u001b[0m\u001b[0mkwargs\u001b[0m\u001b[1;33m)\u001b[0m\u001b[1;33m\u001b[0m\u001b[0m\n\u001b[0;32m     24\u001b[0m         \u001b[1;32massert\u001b[0m \u001b[0mself\u001b[0m\u001b[1;33m.\u001b[0m\u001b[0mconnection\u001b[0m\u001b[1;33m.\u001b[0m\u001b[0misOpen\u001b[0m\u001b[1;33m(\u001b[0m\u001b[1;33m)\u001b[0m\u001b[1;33m,\u001b[0m \u001b[1;34m\"For some reason, I couldn't open the connection!\"\u001b[0m\u001b[1;33m\u001b[0m\u001b[0m\n",
      "\u001b[1;32m<ipython-input-3-cacb5712906c>\u001b[0m in \u001b[0;36mshow_instruments\u001b[1;34m(self)\u001b[0m\n\u001b[0;32m     78\u001b[0m         \"\"\"For testing.  Same as :func:`id_instrument`, except that it just prints the idn result from all com ports.\n\u001b[0;32m     79\u001b[0m         \"\"\"\n\u001b[1;32m---> 80\u001b[1;33m         \u001b[0mold_timeout\u001b[0m \u001b[1;33m=\u001b[0m \u001b[0mself\u001b[0m\u001b[1;33m.\u001b[0m\u001b[0mconnection\u001b[0m\u001b[1;33m.\u001b[0m\u001b[0mtimeout\u001b[0m\u001b[1;33m\u001b[0m\u001b[0m\n\u001b[0m\u001b[0;32m     81\u001b[0m         \u001b[0mself\u001b[0m\u001b[1;33m.\u001b[0m\u001b[0mconnection\u001b[0m\u001b[1;33m.\u001b[0m\u001b[0mtimeout\u001b[0m \u001b[1;33m=\u001b[0m \u001b[1;36m0.1\u001b[0m\u001b[1;33m\u001b[0m\u001b[0m\n\u001b[0;32m     82\u001b[0m         \u001b[1;32mfor\u001b[0m \u001b[0mj\u001b[0m \u001b[1;32min\u001b[0m \u001b[0mcomports\u001b[0m\u001b[1;33m(\u001b[0m\u001b[1;33m)\u001b[0m\u001b[1;33m:\u001b[0m\u001b[1;33m\u001b[0m\u001b[0m\n",
      "\u001b[1;31mAttributeError\u001b[0m: 'SerialInstrument' object has no attribute 'connection'"
     ]
    }
   ],
   "source": [
    "s = SerialInstrument(None)"
   ]
  },
  {
   "cell_type": "code",
   "execution_count": null,
   "metadata": {},
   "outputs": [],
   "source": [
    "#with SerialInstrument('GDS-3254') as s:\n",
    "s = SerialInstrument('GDS-3254')\n",
    "logger.debug(\"running identify using the SerialInstrument class\")\n",
    "logger.debug(strm(\"SerialInstrument instance looks like this:\",s))\n",
    "print s.respond('*idn?')\n",
    "logger.debug(\"done running identify\")\n",
    "s.close()"
   ]
  },
  {
   "cell_type": "markdown",
   "metadata": {},
   "source": [
    "Next, we can define a class for the scope, based on `pyspecdata`"
   ]
  },
  {
   "cell_type": "code",
   "execution_count": null,
   "metadata": {},
   "outputs": [],
   "source": [
    "class GDS_scope (SerialInstrument):\n",
    "    def __init__(self,model='3254'):\n",
    "        super(self.__class__,self).__init__('GDS-'+model)\n",
    "        logger.debug(strm(\"identify from within GDS\",super(self.__class__,self).respond('*idn?')))\n",
    "        logger.debug(\"I should have just opened the serial connection\")\n",
    "        return\n",
    "    def waveform(self,instname='GDS-3254'):\n",
    "        \"\"\"Retrieve waveform and associated parameters form the scope.\n",
    "\n",
    "        Comprises the following steps:\n",
    "\n",
    "        * opens the port to the scope\n",
    "        * acquires what is saved in memory as string\n",
    "        * Divides this string at hashtag which separates settings from waveform\n",
    "\n",
    "        Parameters\n",
    "        ==========\n",
    "\n",
    "        instname : str\n",
    "\n",
    "            The instrument name.  Specifically, a string that's returned as\n",
    "            part of the response to the ``*idn?`` command.\n",
    "\n",
    "        Returns\n",
    "        =======\n",
    "\n",
    "        x_axis : ndarray\n",
    "\n",
    "            The *x*-axis (time-base) of the data.\n",
    "\n",
    "        data : ndarray\n",
    "\n",
    "            A 1-d array containing the scope data.\n",
    "\n",
    "        params : dict\n",
    "\n",
    "            A dictionary of the parameters returned by the scope.\n",
    "        \"\"\"\n",
    "        self.write(':ACQ1:MEM?')\n",
    "        def upto_hashtag():\n",
    "            this_char = self.read(1)\n",
    "            this_line = ''\n",
    "            while this_char != '#':          \n",
    "                this_line += this_char\n",
    "                this_char = self.read(1)\n",
    "            return this_line\n",
    "\n",
    "        #Further divides settings\n",
    "        preamble = upto_hashtag().split(';')\n",
    "        \n",
    "        #Retrieves 'memory' of 25000 from settings\n",
    "        #Waveform data is 50,000 bytes of binary data (2*mem)\n",
    "        mem = int(preamble[0].split(',')[1])\n",
    "        \n",
    "        #Generates list of parameters in the preamble\n",
    "        param = dict([tuple(x.split(',')) for x in preamble if len(x.split(',')) == 2])\n",
    "        \n",
    "        #Reads waveform data of 50,000 bytes\n",
    "        self.read(6)# length of 550000\n",
    "        data = self.read(50001)\n",
    "        assert data[-1] == '\\n', \"data is not followed by newline!\"\n",
    "        data = data[:-1]\n",
    "\n",
    "        # convert the binary string\n",
    "        data_array = fromstring(data,dtype='i2')\n",
    "        data_array =  double(data_array)/double(2**(2*8-1))\n",
    "\n",
    "        # I could do the following\n",
    "        #x_axis = r_[0:len(data_array)] * float(param['Sampling Period'])\n",
    "        # but since I'm \"using up\" the sampling period, do this:\n",
    "        x_axis = r_[0:len(data_array)] * float(param.pop('Sampling Period'))\n",
    "        # r_[... is used by numpy to construct arrays on the fly\n",
    "\n",
    "        # Similarly, use V/div scale to scale the y values of the data\n",
    "        data_array *= float(param.pop('Vertical Scale'))/0.2 # we saw\n",
    "        #              empirically that 0.2 corresponds to about 1 division\n",
    "        data = nddata(data_array,['t']).setaxis('t',x_axis)\n",
    "        data.set_units('t',param.pop('Horizontal Units').replace('S','s'))\n",
    "        data.set_units(param.pop('Vertical Units'))\n",
    "        name = param.pop('Source')\n",
    "        # the last part is not actually related to the nddata object -- for convenience,\n",
    "        # I'm just converting the data type of the remaining parameters\n",
    "        def autoconvert_number(inpstr):\n",
    "            try:\n",
    "                retval = float(inpstr)\n",
    "                isnumber = True\n",
    "            except:\n",
    "                retval = inpstr\n",
    "                isnumber = False\n",
    "            if isnumber:\n",
    "                try:\n",
    "                    intval = int(inpstr)\n",
    "                    if str(intval) == inpstr:\n",
    "                        retval = intval\n",
    "                except:\n",
    "                    pass\n",
    "            return retval\n",
    "        for j in param.keys():\n",
    "            param[j] = autoconvert_number(param[j])\n",
    "        data.other_info.update(param)\n",
    "        data.name(name)\n",
    "        return data"
   ]
  },
  {
   "cell_type": "markdown",
   "metadata": {},
   "source": [
    "The previous cell only ***defines*** the function ``retrieve_waveform``.  Now I have to actually call (run) it!:"
   ]
  },
  {
   "cell_type": "code",
   "execution_count": null,
   "metadata": {},
   "outputs": [],
   "source": [
    "with GDS_scope() as g:\n",
    "    data = g.waveform()"
   ]
  },
  {
   "cell_type": "markdown",
   "metadata": {},
   "source": [
    "At this point, I went through and inspected `data.other_info` (`other_info` is an attribute of `nddata` whose elements can be retrieved with `get_prop`) to see what info was left in the parameter dictionary, and if I could use and pop anything else from the dictionary."
   ]
  },
  {
   "cell_type": "code",
   "execution_count": null,
   "metadata": {},
   "outputs": [],
   "source": [
    "data.other_info\n",
    "\n",
    "\n",
    "\n",
    "print data.get_prop('Memory Length')\n",
    "print type(data.get_prop('Memory Length'))\n",
    "print data.get_prop('Horizontal Scale')\n",
    "print type(data.get_prop('Horizontal Scale'))"
   ]
  },
  {
   "cell_type": "markdown",
   "metadata": {},
   "source": [
    "Now, we can look at the data quick and dirty"
   ]
  },
  {
   "cell_type": "code",
   "execution_count": null,
   "metadata": {},
   "outputs": [],
   "source": [
    "data"
   ]
  },
  {
   "cell_type": "markdown",
   "metadata": {},
   "source": [
    "We can select a portion of the data:"
   ]
  },
  {
   "cell_type": "code",
   "execution_count": null,
   "metadata": {},
   "outputs": [],
   "source": [
    "data['t':(0,0.3e-6)]"
   ]
  },
  {
   "cell_type": "markdown",
   "metadata": {},
   "source": [
    "Manually average a bunch of times, just because I'm curious how long it takes, and because it's an easy way of getting around the 8 bit resolution"
   ]
  },
  {
   "cell_type": "code",
   "execution_count": null,
   "metadata": {},
   "outputs": [],
   "source": [
    "get_ipython().run_cell_magic(u'time', u'', u'# gives the execution time -- %%timeit will run multiple and find best\\nn_shots = 20\\nwith GDS_scope() as g:\\n    for j in range(n_shots):\\n        if j == 0:\\n            data = g.waveform()\\n        else:\\n            data += g.waveform()\\n    data /= n_shots')\n",
    "\n",
    "\n",
    "\n",
    "data['t':(0,0.3e-6)]"
   ]
  },
  {
   "cell_type": "markdown",
   "metadata": {},
   "source": [
    "the following is just so I can also run this as a script"
   ]
  },
  {
   "cell_type": "code",
   "execution_count": null,
   "metadata": {},
   "outputs": [],
   "source": [
    "show()"
   ]
  }
 ],
 "metadata": {
  "kernelspec": {
   "display_name": "Python 2",
   "language": "python",
   "name": "python2"
  },
  "language_info": {
   "codemirror_mode": {
    "name": "ipython",
    "version": 2
   },
   "file_extension": ".py",
   "mimetype": "text/x-python",
   "name": "python",
   "nbconvert_exporter": "python",
   "pygments_lexer": "ipython2",
   "version": "2.7.13"
  }
 },
 "nbformat": 4,
 "nbformat_minor": 2
}
