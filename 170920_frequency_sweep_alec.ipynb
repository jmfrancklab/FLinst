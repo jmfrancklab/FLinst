{
 "cells": [
  {
   "cell_type": "code",
   "execution_count": null,
   "metadata": {},
   "outputs": [],
   "source": [
    "%pylab inline\n",
    "%load_ext pyspecdata.ipy\n",
    "from Instruments import *\n",
    "from pyspecdata import *\n",
    "import time"
   ]
  },
  {
   "cell_type": "code",
   "execution_count": null,
   "metadata": {
    "collapsed": true
   },
   "outputs": [],
   "source": [
    "def make_regexp(x):\n",
    "    x = '%+0.3E'%x\n",
    "    x = x.replace('.',r'\\.').replace('+',r'\\+')\n",
    "    e_idx = x.find('E')\n",
    "    x = x[:e_idx-1] + '.*' + x[e_idx:]\n",
    "    return x"
   ]
  },
  {
   "cell_type": "code",
   "execution_count": null,
   "metadata": {
    "collapsed": true
   },
   "outputs": [],
   "source": [
    "# I copy make_regexp from afg.py\n",
    "# This is how I got around the problem with the zeros that you noticed\n",
    "def make_regexp(x):\n",
    "    '''generate the appropriate search string for the number x'''\n",
    "    # generate the scientific notation representation we want\n",
    "    x = '%+0.3E'%x\n",
    "    # escape dots and plusses, which have a special meaning\n",
    "    x = x.replace('.',r'\\.').replace('+',r'\\+')\n",
    "    # ditch the last digit before the E, and allow anything to go there\n",
    "    e_idx = x.find('E')\n",
    "    x = x[:e_idx-1] + '.*' + x[e_idx:]\n",
    "    return x"
   ]
  },
  {
   "cell_type": "code",
   "execution_count": null,
   "metadata": {},
   "outputs": [],
   "source": [
    "#using the set_sweep() f'n\n",
    "with AFG() as a:\n",
    "    a.reset()\n",
    "    print \"Rest completed\"\n",
    "    print \"Sending out sine\"\n",
    "    #a.sin()\n",
    "    a.set_sweep()\n",
    "#I believe this is running into stall time error\n",
    "    \n",
    "    "
   ]
  },
  {
   "cell_type": "code",
   "execution_count": null,
   "metadata": {},
   "outputs": [],
   "source": [
    "with AFG() as a:\n",
    "    a.reset()\n",
    "    start=5e6\n",
    "    stop=25e6\n",
    "    swe_t=5e0\n",
    "    print \"setting waveform shape\"\n",
    "    a.write('SOUR1:APPL:SIN')\n",
    "    print \"waveform shape set\"\n",
    "    print \"stalling?\"\n",
    "    print a.respond('*idn?') #I don't know what this does but it worked\n",
    "    print \"setting sweep status\"\n",
    "    a.write('SOUR1:SWE:STAT ON')\n",
    "    print \"sweep status set\"\n",
    "    print \"stalling?\"\n",
    "    print a.respond('*idn?')\n",
    "    print \"setting start frequency:\",start\n",
    "    a.write('SOUR1:FREQ:STAR %+0.4E'%start)\n",
    "    print \"seeking start frequency:\",start\n",
    "    print a.demand('SOUR1:FREQ:STAR?',make_regexp(start))\n",
    "    print \"setting stop frequency:\",stop\n",
    "    a.write('SOUR1:FREQ:STOP %+0.4E'%stop)\n",
    "    print \"seeking stop frequency:\",stop\n",
    "    print a.demand('SOUR1:FREQ:STOP?',make_regexp(stop))\n",
    "    print \"setting sweep time:\",swe_t\n",
    "    a.write('SOUR1:SWE:TIME %+0.4E'%swe_t)\n",
    "    print \"seeking sweep time:\",swe_t\n",
    "    print a.demand('SOUR1:SWE:TIME?',make_regexp(swe_t))\n",
    "    print \"stopping\""
   ]
  },
  {
   "cell_type": "code",
   "execution_count": null,
   "metadata": {
    "collapsed": true
   },
   "outputs": [],
   "source": [
    "connection.timeout?"
   ]
  },
  {
   "cell_type": "code",
   "execution_count": null,
   "metadata": {
    "collapsed": true
   },
   "outputs": [],
   "source": [
    "    a.write('SOUR1:FREQ:STOP +8.0000E+03')\n",
    "    a.write('SOUR1:SWE:TIME +8.0000E+00')"
   ]
  },
  {
   "cell_type": "code",
   "execution_count": null,
   "metadata": {
    "collapsed": true
   },
   "outputs": [],
   "source": [
    "        a.write('SOUR1:FREQ:STAR +2.0000E+03')\n",
    "        print a.demand('SOUR1:FREQ:STAR?')\n",
    "        "
   ]
  },
  {
   "cell_type": "code",
   "execution_count": null,
   "metadata": {
    "collapsed": true
   },
   "outputs": [],
   "source": [
    "        self.write('SOUR%d:FREQ:STOP %+0.4E'%(ch,stop))\n",
    "        self.demand('SOUR%d:FREQ:STOP?'%ch,\n",
    "                make_regexp(stop))\n",
    "        self.write('SOUR%d:SWE:TIME %+0.4E'%(ch,time))\n",
    "        self.demand('SOUR%d:SWE:TIME?'%ch,"
   ]
  },
  {
   "cell_type": "code",
   "execution_count": null,
   "metadata": {
    "collapsed": true
   },
   "outputs": [],
   "source": [
    "with AFG() as a:\n",
    "    a.reset()\n",
    "    print a.CH1.sweep\n",
    "    a.CH1.sweep = True\n",
    "    print a.CH1.sweep\n",
    "    a.set_sweep()\n",
    "    #print \"CH1 sweep set to\",a.CH1.sweep\n",
    "    #a.CH1.sweep = True\n",
    "    #print \"CH1 sweep set to\",a.CH1.sweep\n",
    "    \n",
    "    \n",
    "    #rint \"now, I turn on the output\"\n",
    "    #.CH1.output = True\n",
    "    #print \"now, capture the data\"\n",
    "    #time.sleep(1)\n",
    "    # grab it on the scope\n",
    "    #with GDS_scope() as g:\n",
    "     #   g.autoset()\n",
    "      #  data = g.waveform(ch=2)\n",
    "   # print \"turn off the output again\"\n",
    "    #a.CH1.output = False"
   ]
  },
  {
   "cell_type": "code",
   "execution_count": null,
   "metadata": {
    "collapsed": true
   },
   "outputs": [],
   "source": []
  }
 ],
 "metadata": {
  "kernelspec": {
   "display_name": "Python 2",
   "language": "python",
   "name": "python2"
  },
  "language_info": {
   "codemirror_mode": {
    "name": "ipython",
    "version": 2
   },
   "file_extension": ".py",
   "mimetype": "text/x-python",
   "name": "python",
   "nbconvert_exporter": "python",
   "pygments_lexer": "ipython2",
   "version": "2.7.13"
  }
 },
 "nbformat": 4,
 "nbformat_minor": 2
}
