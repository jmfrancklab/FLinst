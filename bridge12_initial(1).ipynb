{
 "cells": [
  {
   "cell_type": "markdown",
   "metadata": {},
   "source": [
    "# Initialization\n",
    "\n",
    "to run on a different computer, run ``jupyter notebook --ip='*'`` copy and paste address and replace ``localhost`` with ``jmfranck-pi2.syr.edu`` (if on the internet) or ``192.168.1.20`` (if on local network)"
   ]
  },
  {
   "cell_type": "code",
   "execution_count": 11,
   "metadata": {
    "scrolled": true
   },
   "outputs": [
    {
     "name": "stdout",
     "output_type": "stream",
     "text": [
      "Populating the interactive namespace from numpy and matplotlib\n",
      "3.4\n"
     ]
    }
   ],
   "source": [
    "%pylab inline\n",
    "from serial.tools.list_ports import comports, grep\n",
    "import serial\n",
    "import time\n",
    "#import winsound\n",
    "print serial.VERSION\n",
    "\n",
    "def generate_beep(freq,duration):\n",
    "    \"Generates a beep -- used winsound.Beep under windows -- use pygame under linux\"\n",
    "    return\n",
    "def bridge12_wait(s):\n",
    "    #time.sleep(5)\n",
    "    def look_for(this_str):\n",
    "        for j in range(1000):\n",
    "            a = s.read_until(this_str+'\\r\\n')\n",
    "            time.sleep(0.1)\n",
    "            #print \"a is\",repr(a)\n",
    "            print \"look for\",this_str,\"try\",j+1\n",
    "            if this_str in a:\n",
    "                print \"found: \",this_str\n",
    "                break\n",
    "    look_for('MPS Started')\n",
    "    look_for('System Ready')\n",
    "    return"
   ]
  },
  {
   "cell_type": "markdown",
   "metadata": {},
   "source": [
    "print out the com ports, so we know what we're looking for"
   ]
  },
  {
   "cell_type": "code",
   "execution_count": 12,
   "metadata": {},
   "outputs": [
    {
     "data": {
      "text/plain": [
       "[('/dev/ttyACM0',\n",
       "  'USB VID:PID=2A03:003D SER=75430333137351E03132 LOCATION=1-1.4:1.0',\n",
       "  10755,\n",
       "  'Arduino Due Prog. Port',\n",
       "  'Arduino (www.arduino.org)'),\n",
       " ('/dev/ttyAMA0', '3f201000.serial', None, 'ttyAMA0', None)]"
      ]
     },
     "execution_count": 12,
     "metadata": {},
     "output_type": "execute_result"
    }
   ],
   "source": [
    "[(j.device, j.hwid, j.vid, j.description, j.manufacturer) for j in comports()] #list comprehension"
   ]
  },
  {
   "cell_type": "markdown",
   "metadata": {},
   "source": [
    "Grab the port labeled as Arduino (since the Bridge12 microcontroller is an Arduino)"
   ]
  },
  {
   "cell_type": "code",
   "execution_count": 13,
   "metadata": {},
   "outputs": [],
   "source": [
    "portlist = [j.device for j in comports() if u'Arduino Due' in j.description]\n",
    "assert len(portlist)==1\n",
    "thisport = portlist[0]"
   ]
  },
  {
   "cell_type": "markdown",
   "metadata": {},
   "source": [
    "# Testing out commands \n",
    "\n",
    "try the help command -- start with the simplest way possible, which uses very long wait times:"
   ]
  },
  {
   "cell_type": "code",
   "execution_count": 4,
   "metadata": {},
   "outputs": [
    {
     "name": "stdout",
     "output_type": "stream",
     "text": [
      "done\n",
      "initial: 'Bridge12 MPS Started\\r\\nSystem Ready\\r\\n'\n",
      "after help: '\\r\\nSerial Commands Help\\r\\n====================\\r\\n\\r\\nCommand examples\\r\\nSet Frequency:\\r\\nfreq <frequency in kHz>\\r\\n\\r\\nQuery Frequency:\\r\\nfreq?\\r\\n\\r\\n\\r\\nSet Power Level:\\r\\npower <level in dBm * 10>\\r\\n\\r\\nQuery Frequency:\\r\\npower?\\r\\n\\r\\n\\r\\nFor a complete list see the manual\\r\\n'\n"
     ]
    }
   ],
   "source": [
    "with serial.Serial(thisport, timeout=1, baudrate=115200) as s:\n",
    "    time.sleep(20)\n",
    "    print \"done\"\n",
    "    print \"initial:\",repr(s.read_all()) #Bridge 12 MPS Started\n",
    "    s.write(\"help\\r\") #command for \"help\"\n",
    "    time.sleep(10)\n",
    "    print \"after help:\",repr(s.read_all()) #read help "
   ]
  },
  {
   "cell_type": "markdown",
   "metadata": {},
   "source": [
    "Here, I play with minimal wait times.  Note the timeout=3, which causes readline and read_until to wait longer.  Though there are many lines of code to grab the help response, this should work for any multiline response.\n",
    "\n",
    "Note that the read_all only reads what's in the buffer *right now* -- with the laptop we were able to call this once, because the bufer fills up so fast.  The USB on the pi seems to be slower."
   ]
  },
  {
   "cell_type": "code",
   "execution_count": 5,
   "metadata": {
    "scrolled": true
   },
   "outputs": [
    {
     "name": "stdout",
     "output_type": "stream",
     "text": [
      "look for MPS Started try 1\n",
      "found:  MPS Started\n",
      "look for System Ready try 1\n",
      "look for System Ready try 2\n",
      "look for System Ready try 3\n",
      "found:  System Ready\n",
      "after help:\n",
      "'\\r\\nSerial Commands Help\\r\\n====================\\r\\n\\r\\nCommand examples\\r\\nSet Frequency:\\r\\nfreq <frequency in kHz>\\r\\n\\r\\nQuery Frequency:\\r\\nfreq?\\r\\n\\r\\n\\r\\nSet Power Level:\\r\\npower <level in dBm * 10>\\r\\n\\r\\nQuery Frequency:\\r\\npower?\\r\\n\\r\\n\\r\\nFor a complete list see the manual\\r\\n'\n"
     ]
    }
   ],
   "source": [
    "with serial.Serial(thisport, timeout=3, baudrate=115200) as s:\n",
    "    bridge12_wait(s) #give it time to start\n",
    "    s.write(\"help\\r\") #command for \"help\"\n",
    "    print \"after help:\"\n",
    "    entire_response = ''\n",
    "    start = time.time()\n",
    "    entire_response += s.readline()\n",
    "    time_to_read_a_line = time.time()-start\n",
    "    grab_more_lines = True\n",
    "    while grab_more_lines:\n",
    "        time.sleep(3*time_to_read_a_line)\n",
    "        more = s.read_all()\n",
    "        entire_response += more\n",
    "        if len(more) == 0:\n",
    "            grab_more_lines = False\n",
    "    print repr(entire_response)"
   ]
  },
  {
   "cell_type": "markdown",
   "metadata": {},
   "source": [
    "Now, I play with the waveguide status"
   ]
  },
  {
   "cell_type": "code",
   "execution_count": 8,
   "metadata": {},
   "outputs": [
    {
     "name": "stdout",
     "output_type": "stream",
     "text": [
      "look for MPS Started try 1\n",
      "found:  MPS Started\n",
      "look for System Ready try 1\n",
      "look for System Ready try 2\n",
      "look for System Ready try 3\n",
      "found:  System Ready\n",
      "initial status: 0\n",
      "turn it on: 1\n",
      "turn it off again: 0\n"
     ]
    }
   ],
   "source": [
    "with serial.Serial(thisport, timeout=3, baudrate=115200) as s:\n",
    "    def wgstatus_int_singletry():\n",
    "        s.write('wgstatus?\\r')\n",
    "        return int(s.readline())\n",
    "    def wgstatus_int():\n",
    "        \"need two consecutive responses that match\"\n",
    "        a = wgstatus_int_singletry()\n",
    "        b = wgstatus_int_singletry()\n",
    "        while a != b:\n",
    "            a = b\n",
    "            b = wgstatus_int_singletry()\n",
    "        return a\n",
    "    bridge12_wait(s)\n",
    "    print \"initial status:\",wgstatus_int()\n",
    "    s.write('wgstatus 1\\r')\n",
    "    print \"turn it on:\",wgstatus_int()\n",
    "    time.sleep(3)\n",
    "    s.write('wgstatus 0\\r')\n",
    "    print \"turn it off again:\",wgstatus_int()"
   ]
  },
  {
   "cell_type": "code",
   "execution_count": null,
   "metadata": {},
   "outputs": [],
   "source": [
    "with serial.Serial(thisport, timeout=3, baudrate=115200) as s:\n",
    "    bridge12_wait(s)\n",
    "    def set_wg(setting):\n",
    "        \"\"\"set *and check* waveguide\n",
    "        \n",
    "        Parameters\n",
    "        ==========\n",
    "        setting: bool\n",
    "            Waveguide setting appropriate for:\n",
    "            True: DNP\n",
    "            False: ESR\n",
    "        \"\"\"\n",
    "        s.write('wgstatus %d\\r'%setting)\n",
    "        for j in range(10):\n",
    "            s.write('wgstatus?\\r')\n",
    "            result = int(s.readline())\n",
    "            if result == setting:\n",
    "                return\n",
    "        raise RuntimeError(\"After trying 10 times, I can't get the waveguide to change\")\n",
    "    print \"waveguide on\"\n",
    "    set_wg(True)\n",
    "    time.sleep(5)# just so we're not toggling it back and forth very fast\n",
    "    print \"waveguide off\"\n",
    "    set_wg(False)"
   ]
  },
  {
   "cell_type": "markdown",
   "metadata": {},
   "source": [
    "# JF stopped here"
   ]
  },
  {
   "cell_type": "markdown",
   "metadata": {},
   "source": [
    "BEGIN SAMANTHA'S WORK 180226"
   ]
  },
  {
   "cell_type": "markdown",
   "metadata": {},
   "source": [
    "Frequency query test (new_180226)"
   ]
  },
  {
   "cell_type": "code",
   "execution_count": 6,
   "metadata": {
    "scrolled": true
   },
   "outputs": [
    {
     "name": "stdout",
     "output_type": "stream",
     "text": [
      "look for MPS Started try 1\n",
      "found:  MPS Started\n",
      "look for System Ready try 1\n",
      "look for System Ready try 2\n",
      "look for System Ready try 3\n",
      "found:  System Ready\n",
      "after freq:\n",
      "'9500000\\r\\n'\n"
     ]
    }
   ],
   "source": [
    "with serial.Serial(thisport, timeout=3, baudrate=115200) as s:\n",
    "    bridge12_wait(s) #give it time to start\n",
    "    s.write(\"freq?\\r\") #query for \"freq?\"\n",
    "    print \"after freq:\"\n",
    "    entire_response = ''\n",
    "    start = time.time()\n",
    "    entire_response += s.readline()\n",
    "    time_to_read_a_line = time.time()-start\n",
    "    grab_more_lines = True\n",
    "    while grab_more_lines:\n",
    "        time.sleep(3*time_to_read_a_line)\n",
    "        more = s.read_all()\n",
    "        entire_response += more\n",
    "        if len(more) == 0:\n",
    "            grab_more_lines = False\n",
    "    print repr(entire_response)"
   ]
  },
  {
   "cell_type": "markdown",
   "metadata": {},
   "source": [
    "Frequency runthrough test (new_180226)"
   ]
  },
  {
   "cell_type": "code",
   "execution_count": 7,
   "metadata": {},
   "outputs": [
    {
     "name": "stdout",
     "output_type": "stream",
     "text": [
      "look for MPS Started try 1\n",
      "found:  MPS Started\n",
      "look for System Ready try 1\n",
      "look for System Ready try 2\n",
      "look for System Ready try 3\n",
      "found:  System Ready\n",
      "after freq:\n",
      "''\n"
     ]
    }
   ],
   "source": [
    "freq = linspace(9.4e9,9.9e9, 50)\n",
    "with serial.Serial(thisport, timeout=3, baudrate=115200) as s:\n",
    "    bridge12_wait(s) #give it time to start\n",
    "    for j,f in enumerate(freq):\n",
    "        time.sleep(0.5)\n",
    "        generate_beep(500, 300)\n",
    "        s.write('freq %.1f\\r'%(f/1e3))\n",
    "    print \"after freq:\"\n",
    "    entire_response = ''\n",
    "    start = time.time()\n",
    "    entire_response += s.readline()\n",
    "    time_to_read_a_line = time.time()-start\n",
    "    grab_more_lines = True\n",
    "    while grab_more_lines:\n",
    "        time.sleep(3*time_to_read_a_line)\n",
    "        more = s.read_all()\n",
    "        entire_response += more\n",
    "        if len(more) == 0:\n",
    "            grab_more_lines = False\n",
    "    print repr(entire_response)"
   ]
  },
  {
   "cell_type": "markdown",
   "metadata": {},
   "source": [
    "Test amp status (180226)"
   ]
  },
  {
   "cell_type": "code",
   "execution_count": 9,
   "metadata": {},
   "outputs": [
    {
     "name": "stdout",
     "output_type": "stream",
     "text": [
      "look for MPS Started try 1\n",
      "found:  MPS Started\n",
      "look for System Ready try 1\n",
      "look for System Ready try 2\n",
      "look for System Ready try 3\n",
      "found:  System Ready\n",
      "initial status: 0\n",
      "turn it on: 0\n",
      "turn it off again: 0\n"
     ]
    }
   ],
   "source": [
    "with serial.Serial(thisport, timeout=3, baudrate=115200) as s:\n",
    "    def ampstatus_int_singletry():\n",
    "        s.write('ampstatus?\\r')\n",
    "        return int(s.readline())\n",
    "    def ampstatus_int():\n",
    "        \"need two consecutive responses that match\"\n",
    "        a = ampstatus_int_singletry()\n",
    "        b = ampstatus_int_singletry()\n",
    "        while a != b:\n",
    "            a = b\n",
    "            b = wgstatus_int_singletry()\n",
    "        return a\n",
    "    bridge12_wait(s)\n",
    "    print \"initial status:\",wgstatus_int()\n",
    "    s.write('ampstatus 1\\r')\n",
    "    print \"turn it on:\",wgstatus_int()\n",
    "    time.sleep(3)\n",
    "    s.write('ampstatus 0\\r')\n",
    "    print \"turn it off again:\",wgstatus_int()"
   ]
  },
  {
   "cell_type": "markdown",
   "metadata": {},
   "source": [
    "Power Change Test (180226)"
   ]
  },
  {
   "cell_type": "code",
   "execution_count": 13,
   "metadata": {},
   "outputs": [
    {
     "name": "stdout",
     "output_type": "stream",
     "text": [
      "look for MPS Started try 1\n",
      "found:  MPS Started\n",
      "look for System Ready try 1\n",
      "look for System Ready try 2\n",
      "look for System Ready try 3\n",
      "found:  System Ready\n",
      "initial power: 0\n",
      "up power: 100\n",
      "down power: 0\n"
     ]
    }
   ],
   "source": [
    "with serial.Serial(thisport, timeout=3, baudrate=115200) as s:\n",
    "    def power_int_singletry():\n",
    "        s.write('power?\\r')\n",
    "        return int(s.readline())\n",
    "    def power_int():\n",
    "        \"need two consecutive responses that match\"\n",
    "        a = power_int_singletry()\n",
    "        b = power_int_singletry()\n",
    "        while a != b:\n",
    "            a = b\n",
    "            b = power_int_singletry()\n",
    "        return a\n",
    "    bridge12_wait(s)\n",
    "    print \"initial power:\",power_int()\n",
    "    s.write('power 100\\r')\n",
    "    print \"up power:\",power_int()\n",
    "    time.sleep(3)\n",
    "    s.write('power 0\\r')\n",
    "    print \"down power:\",power_int()"
   ]
  },
  {
   "cell_type": "markdown",
   "metadata": {},
   "source": [
    "### Initialization for MW power test and Tuning Curve (180306)\n",
    "    Do I need to choose a variable other than s for the settings for the amplifier and microwave power?-Sam"
   ]
  },
  {
   "cell_type": "code",
   "execution_count": 14,
   "metadata": {},
   "outputs": [],
   "source": [
    "def wgstatus_int_singletry(s):\n",
    "    s.write('wgstatus?\\r')\n",
    "    return int(s.readline())\n",
    "def wgstatus_int(s):\n",
    "    \"need two consecutive responses that match\"\n",
    "    c = wgstatus_int_singletry(s)\n",
    "    d = wgstatus_int_singletry(s)\n",
    "    while c != d:\n",
    "        c = d\n",
    "        d = wgstatus_int_singletry(s)\n",
    "    return c\n",
    "def set_wg(s,setting):\n",
    "    \"\"\"set *and check* waveguide\n",
    "\n",
    "    Parameters\n",
    "    ==========\n",
    "    s: Serial object\n",
    "        gives the connection\n",
    "    setting: bool\n",
    "        Waveguide setting appropriate for:\n",
    "        True: DNP\n",
    "        False: ESR\n",
    "    \"\"\"\n",
    "    s.write('wgstatus %d\\r'%setting)\n",
    "    for j in range(10):\n",
    "        result = wgstatus_int(s)\n",
    "        if result == setting:\n",
    "            return\n",
    "    raise RuntimeError(\"After checking status 10 times, I can't get the waveguide to change\")\n",
    "    \n",
    "def ampstatus_int_singletry(t):\n",
    "    s.write('ampstatus?\\r')\n",
    "    return int(s.readline())\n",
    "def ampstatus_int(t):\n",
    "    \"need two consecutive responses that match\"\n",
    "    a = ampstatus_int_singletry(t)\n",
    "    b = ampstatus_int_singletry(t)\n",
    "    while a != b:\n",
    "        a = b\n",
    "        b = ampstatus_int_singletry(t)\n",
    "    return a\n",
    "def set_amp(t,setting):\n",
    "    \"\"\"set *and check* amplifier\n",
    "\n",
    "    Parameters\n",
    "    ==========\n",
    "    t: Serial object\n",
    "        gives the connection\n",
    "    setting: bool\n",
    "       Amplifier setting appropriate for:\n",
    "        True: On\n",
    "        False: Off\n",
    "    \"\"\"\n",
    "    s.write('ampstatus %d\\r'%setting)\n",
    "    for j in range(10):\n",
    "        result = ampstatus_int(t)\n",
    "        if result == setting:\n",
    "            return\n",
    "    raise RuntimeError(\"After checking status 10 times, I can't get the amplifier to turn on/off\")\n",
    "    \n",
    "def rfstatus_int_singletry(u):\n",
    "    s.write('rfstatus?\\r')\n",
    "    return int(s.readline())\n",
    "def rfstatus_int(u):\n",
    "    \"need two consecutive responses that match\"\n",
    "    f = rfstatus_int_singletry(u)\n",
    "    g = rfstatus_int_singletry(u)\n",
    "    while f != g:\n",
    "        f = g\n",
    "        g = rfstatus_int_singletry(u)\n",
    "    return f\n",
    "def set_rf(u,setting):\n",
    "    \"\"\"set *and check* microwave power\n",
    "\n",
    "    Parameters\n",
    "    ==========\n",
    "    u: Serial object\n",
    "        gives the connection\n",
    "    setting: bool\n",
    "        Microwave Power setting appropriate for:\n",
    "        True: On\n",
    "        False: Off\n",
    "    \"\"\"\n",
    "    s.write('rfstatus %d\\r'%setting)\n",
    "    for j in range(10):\n",
    "        result = rfstatus_int(u)\n",
    "        if result == setting:\n",
    "            return\n",
    "    raise RuntimeError(\"After checking status 10 times, I can't get the mw power to turn on/off\")\n",
    "    \n",
    "   "
   ]
  },
  {
   "cell_type": "markdown",
   "metadata": {},
   "source": [
    "Power Initialization value (180306) Do I need the initialization code for setting the power value???"
   ]
  },
  {
   "cell_type": "code",
   "execution_count": null,
   "metadata": {},
   "outputs": [],
   "source": [
    " def power_int_singletry(v):\n",
    "    s.write('power?\\r')\n",
    "    return int(s.readline())\n",
    "def power_int(v):\n",
    "    \"need two consecutive responses that match\"\n",
    "    f = power_int_singletry(v)\n",
    "    g = power_int_singletry(v)\n",
    "    while h != i:\n",
    "        h = i\n",
    "        i = power_int_singletry(v)\n",
    "    return f\n",
    "def set_power(v,setting):\n",
    "    \"\"\"set *and check* power\n",
    "\n",
    "    Parameters\n",
    "    ==========\n",
    "    v: Serial object\n",
    "        gives the connection\n",
    "    setting: bool\n",
    "        Power setting appropriate for:\n",
    "        True: On\n",
    "        False: Off\n",
    "    \"\"\"\n",
    "    s.write('power %d\\r'%setting)\n",
    "    for j in range(10):\n",
    "        result = power_int(v)\n",
    "        if result == setting:\n",
    "            return\n",
    "    raise RuntimeError(\"After checking status 10 times, I can't get the power to change\")\n",
    "    "
   ]
  },
  {
   "cell_type": "markdown",
   "metadata": {},
   "source": [
    "### Code for MW power test (180306)"
   ]
  },
  {
   "cell_type": "code",
   "execution_count": null,
   "metadata": {},
   "outputs": [],
   "source": [
    "with serial.Serial(thisport, timeout=3, baudrate=115200) as s:\n",
    "    bridge12_wait(s)\n",
    "    print \"initial wg status:\", wgstatus_int(s)\n",
    "    set_wg(s,True)\n",
    "    print \"initial amp status:\", ampstatus_int(t)\n",
    "    set_amp(t, True)\n",
    "    print \"initial rf status:\", rfstatus_int(u)\n",
    "    set_rf(u, True)\n",
    "    s.write('power?\\r')\n",
    "    print \"initial power:\", s.readline()\n",
    "    s.write('power 100\\r')\n",
    "    time.sleep(10)\n",
    "    s.write('power 0\\r')\n",
    "    s.write('power?\\r')\n",
    "    print \"final power:\", s.readline()\n",
    "    set_rf(u,False)\n",
    "    set_wg(s,False)"
   ]
  },
  {
   "cell_type": "markdown",
   "metadata": {},
   "source": [
    "### Tuning Curve Code (180306)"
   ]
  },
  {
   "cell_type": "code",
   "execution_count": null,
   "metadata": {},
   "outputs": [],
   "source": [
    "freq = linspace(9.4e9,9.9e9, 50)\n",
    "rxvalues = zeros(len(freq))\n",
    "with serial.Serial(thisport, timeout=3, baudrate=115200) as s:\n",
    "    bridge12_wait(s)\n",
    "    #Turn Components On and Power to 10dBm\n",
    "    print \"initial wg status:\", wgstatus_int(s)\n",
    "    set_wg(s,True)\n",
    "    print \"initial amp status:\", ampstatus_int(t)\n",
    "    set_amp(t, True)\n",
    "    print \"initial rf status:\", rfstatus_int(u)\n",
    "    set_rf(u, True)\n",
    "    s.write('power?\\r')\n",
    "    print \"initial power:\", s.readline()\n",
    "    s.write('power 100\\r')\n",
    "    s.write('power?\\r')\n",
    "    print \"power up:\", s.readline()\n",
    "    #FREQUENCY AND RXPOWER SWEEP \n",
    "    for j,f in enumerate(freq):\n",
    "        time.sleep(0.5)\n",
    "        generate_beep(500, 300)\n",
    "        s.write('freq %.1f\\r'%(f/1e3))\n",
    "        s.write('rxpowerdbm?\\r') \n",
    "        rx =s.readline()\n",
    "        rxvalues[j] = float(rx)/10 \n",
    "    time.sleep(10)\n",
    "    #Turn Components Off and Power to 0dBm\n",
    "    s.write('power 0\\r')\n",
    "    s.write('power?\\r')\n",
    "    print \"final power:\", s.readline()\n",
    "    set_rf(u,False)\n",
    "    set_wg(s,False)\n",
    "print \"j\",j, \"freq\",f, \"rxpower\", rxvalues #'table' of values\n",
    "plot(freq, rxvalues) #tuning curve"
   ]
  },
  {
   "cell_type": "markdown",
   "metadata": {},
   "source": [
    "Original Code from (180226) for MW Power Test"
   ]
  },
  {
   "cell_type": "code",
   "execution_count": 16,
   "metadata": {
    "scrolled": false
   },
   "outputs": [
    {
     "name": "stdout",
     "output_type": "stream",
     "text": [
      "look for MPS Started try 1\n",
      "found:  MPS Started\n",
      "look for System Ready try 1\n",
      "look for System Ready try 2\n",
      "look for System Ready try 3\n",
      "found:  System Ready\n",
      "initial wg status: 0\n"
     ]
    }
   ],
   "source": [
    "with serial.Serial(thisport, timeout=3, baudrate=115200) as s:\n",
    "    bridge12_wait(s)\n",
    "    # WG to DNP\n",
    "    print \"initial wg status:\",wgstatus_int(s)\n",
    "    set_wg(s,True)\n",
    "    #s.write('wgstatus 0\\r')\n",
    "    time.sleep(10)\n",
    "    set_wg(s,False)\n",
    "#     #print \"turn wg off again:\",wgstatus_int()\n",
    "#     # MW source on\n",
    "#     print \"initial rf status:\",rfstatus_int(s)\n",
    "#     s.write('rfstatus 1\\r')\n",
    "#     print \"turn rf on:\",rfstatus_int(s)\n",
    "#     time.sleep(3)\n",
    "#     # Set forward power to 10 dBm\n",
    "    \n",
    "#     #s.write('rfstatus 0\\r')\n",
    "#     #print \"turn rf off again:\",rfstatus_int()\n",
    "#     s.write('rfstatus 0\\r')\n",
    "#     print \"turn it off again:\",rfstatus_int(s)\n",
    "#     s.write('ampstatus 0\\r')\n",
    "#     print \"turn it off again:\",ampstatus_int(s)\n",
    "#     s.write('wgstatus 0\\r')\n",
    "#     print \"turn it off again:\",wgstatus_int(s)"
   ]
  },
  {
   "cell_type": "markdown",
   "metadata": {},
   "source": [
    "Original tuning curve code from (180226)"
   ]
  },
  {
   "cell_type": "code",
   "execution_count": null,
   "metadata": {},
   "outputs": [],
   "source": [
    "freq = linspace(9.4e9,9.9e9, 50)\n",
    "rxvalues = zeros(len(freq))\n",
    "with serial.Serial(thisport, timeout=3, baudrate=115200) as s:\n",
    "    #WAVEGUIDE TO DNP\n",
    "    def wgstatus_int_singletry():\n",
    "        s.write('wgstatus?\\r')\n",
    "        return int(s.readline())\n",
    "    def wgstatus_int():\n",
    "        \"need two consecutive responses that match\"\n",
    "        c = wgstatus_int_singletry()\n",
    "        d = wgstatus_int_singletry()\n",
    "        while c != d:\n",
    "            c = d\n",
    "            d = wgstatus_int_singletry()\n",
    "        return c\n",
    "    bridge12_wait(s)\n",
    "    print \"initial wg status:\",wgstatus_int()\n",
    "    s.write('wgstatus 1\\r')\n",
    "    print \"turn wg on:\",wgstatus_int()\n",
    "    time.sleep(3)\n",
    "    #s.write('wgstatus 0\\r')\n",
    "    #print \"turn wg off again:\",wgstatus_int()\n",
    "    #AMP TO ON\n",
    "    def ampstatus_int_singletry():\n",
    "        s.write('ampstatus?\\r')\n",
    "        return int(s.readline())\n",
    "    def ampstatus_int():\n",
    "        \"need two consecutive responses that match\"\n",
    "        a = ampstatus_int_singletry()\n",
    "        b = ampstatus_int_singletry()\n",
    "        while a != b:\n",
    "            a = b\n",
    "            b = ampstatus_int_singletry()\n",
    "        return a\n",
    "    bridge12_wait(s)\n",
    "    print \"initial amp status:\",ampstatus_int()\n",
    "    s.write('ampstatus 1\\r')\n",
    "    print \"turn amp on:\",ampstatus_int()\n",
    "    time.sleep(3)\n",
    "    #s.write('ampstatus 0\\r')\n",
    "    #print \"turn amp off again:\",ampstatus_int()\n",
    "    #MW POWER ON (RFPWER)\n",
    "    def rfstatus_int_singletry():\n",
    "        s.write('rfstatus?\\r')\n",
    "        return int(s.readline())\n",
    "    def rfstatus_int():\n",
    "        \"need two consecutive responses that match\"\n",
    "        f = rfstatus_int_singletry()\n",
    "        g = rfstatus_int_singletry()\n",
    "        while f != g:\n",
    "            f = g\n",
    "            g = rfstatus_int_singletry()\n",
    "        return f\n",
    "    bridge12_wait(s)\n",
    "    print \"initial rf status:\",rfstatus_int()\n",
    "    s.write('rfstatus 1\\r')\n",
    "    print \"turn rf on:\",rfstatus_int()\n",
    "    time.sleep(3)\n",
    "    #s.write('rfstatus 0\\r')\n",
    "    #print \"turn rf off again:\",rfstatus_int()\n",
    "    #POWER TO 10dBm\n",
    "    def power_int_singletry():\n",
    "        s.write('power?\\r')\n",
    "        return int(s.readline())\n",
    "    def power_int():\n",
    "        \"need two consecutive responses that match\"\n",
    "        a = power_int_singletry()\n",
    "        b = power_int_singletry()\n",
    "        while a != b:\n",
    "            a = b\n",
    "            b = power_int_singletry()\n",
    "        return a\n",
    "    bridge12_wait(s)\n",
    "    print \"initial power:\",power_int()\n",
    "    s.write('power 100\\r')\n",
    "    print \"up power:\",power_int()\n",
    "    time.sleep(3)\n",
    "    #s.write('power 0\\r')\n",
    "    #print \"down power:\",power_int()\n",
    "    #FREQUENCY AND RXPOWER SWEEP \n",
    "    for j,f in enumerate(freq):\n",
    "        time.sleep(0.5)\n",
    "        generate_beep(500, 300)\n",
    "        s.write('freq %.1f\\r'%(f/1e3))\n",
    "        s.write('rxpowerdbm?\\r') \n",
    "        rx =s.readline()\n",
    "        rxvalues[j] = float(rx)/10 #converting string to float point values\n",
    "    #ARE THERE PARTS TO THE FREQ CODE I CAN DELETE HERE^^^?\n",
    "    #POWER TO 0dBm\n",
    "    s.write('power 0\\r')\n",
    "    print \"down power:\",power_int()\n",
    "    time.sleep(3)\n",
    "    #MW POWER OFF\n",
    "    s.write('rfstatus 0\\r')\n",
    "    print \"turn rf off again:\",rfstatus_int()\n",
    "    time.sleep(3)\n",
    "    #WG TO ESR MODE\n",
    "    s.write('wgstatus 0\\r')\n",
    "    print \"turn wg off again:\",wgstatus_int()\n",
    "    time.sleep(3)\n",
    "print \"j\",j, \"freq\",f, \"rxpower\", rxvalues #'table' of values\n",
    "plot(freq, rxvalues) #tuning curve"
   ]
  },
  {
   "cell_type": "markdown",
   "metadata": {},
   "source": [
    "freq query test"
   ]
  },
  {
   "cell_type": "code",
   "execution_count": null,
   "metadata": {},
   "outputs": [],
   "source": [
    "with serial.Serial(thisport, timeout=3, baudrate=115200) as s:\n",
    "    bridge12_wait(s)\n",
    "    print \"done\"\n",
    "    generate_beep(1000,300)\n",
    "    s.write('freq?\\r')\n",
    "    print float(s.readline())\n",
    "print \"final\""
   ]
  },
  {
   "cell_type": "markdown",
   "metadata": {},
   "source": [
    "frequency test"
   ]
  },
  {
   "cell_type": "code",
   "execution_count": null,
   "metadata": {},
   "outputs": [],
   "source": [
    "with serial.Serial(thisport, timeout=3, baudrate=115200) as s:\n",
    "    bridge12_wait(s)\n",
    "    #time.sleep(10)\n",
    "    tmp = s.read_all()\n",
    "    print repr(tmp)\n",
    "    print \"done\"\n",
    "    generate_beep(1000,300)\n",
    "    for freq in linspace(9.45e9,9.51e9,11):\n",
    "        time.sleep(0.5)\n",
    "        generate_beep(500,300)\n",
    "        s.write('freq %.1f\\r'%(freq/1e3))\n",
    "    generate_beep(1000,300)\n",
    "    time.sleep(5)\n",
    "    print \"final:\", s.read_all()"
   ]
  },
  {
   "cell_type": "markdown",
   "metadata": {},
   "source": [
    "preliminary code for ampstatus and freq (no need to run):"
   ]
  },
  {
   "cell_type": "code",
   "execution_count": null,
   "metadata": {},
   "outputs": [],
   "source": [
    "with serial.Serial(thisport, timeout=3, baudrate=115200) as s:\n",
    "    bridge12_wait(s)\n",
    "    print \"done\"\n",
    "    print \"initial:\",s.readline()\n",
    "    s.write('ampstatus 0\\r') #command amp to be OFF\n",
    "    s.write('ampstatus?\\r') #command to check amp status (ON/OFF)\n",
    "    amp_status = int(s.readline()) #read amp status as an integer\n",
    "    print \"amp status:\",amp_status #print amp status \n",
    "    generate_beep(1000, 300) #signal to begin running through frequencies\n",
    "    for mw_freq in linspace(9.45e9,9.51e9,11): #frequencies being ran through \n",
    "        time.sleep(0.5) #time between frequencies\n",
    "        generate_beep(500, 300) #signal frequency change\n",
    "        s.write('freq %.1f\\r'%(mw_freq/1e3)) #changing frequency values to a string for Bridge12 to read\n",
    "    generate_beep(1000, 300) #signal when finished running through frequencies"
   ]
  },
  {
   "cell_type": "markdown",
   "metadata": {},
   "source": [
    "We want functions that will change a setting and verify, so let's do that here for the waveguide.  Check this out and see if you get the basic idea."
   ]
  },
  {
   "cell_type": "markdown",
   "metadata": {},
   "source": [
    "playing with loops"
   ]
  },
  {
   "cell_type": "code",
   "execution_count": null,
   "metadata": {},
   "outputs": [],
   "source": [
    "for mw_freq in linspace(9.5e9,9.51e9,11):\n",
    "    print 'freq %.1f\\r'%(mw_freq/1e3) #printing"
   ]
  },
  {
   "cell_type": "markdown",
   "metadata": {},
   "source": [
    "just checking to see if sounds work"
   ]
  },
  {
   "cell_type": "code",
   "execution_count": null,
   "metadata": {},
   "outputs": [],
   "source": [
    "import winsound\n",
    "duration = 1000  # millisecond\n",
    "freq = 440  # Hz\n",
    "generate_beep(880, 300)"
   ]
  },
  {
   "cell_type": "markdown",
   "metadata": {},
   "source": [
    "use this block for the tuning curve:"
   ]
  },
  {
   "cell_type": "code",
   "execution_count": null,
   "metadata": {},
   "outputs": [],
   "source": [
    "freq = linspace(9.4e9,9.9e9, 50)\n",
    "rxvalues = zeros(len(freq))\n",
    "with serial.Serial(thisport, timeout=3, baudrate=115200) as s:\n",
    "    time.sleep(10)\n",
    "    print \"initial:\",s.readline()\n",
    "    #ampstatus commands\n",
    "    s.write('ampstatus 0\\r')\n",
    "    time.sleep(0.5)\n",
    "    s.write('ampstatus?\\r')\n",
    "    amp_status = int(s.readline())\n",
    "    print \"amp status:\",amp_status\n",
    "    time.sleep(5)\n",
    "    generate_beep(1000,300)\n",
    "    #frequency and rxpower\n",
    "    for j,f in enumerate(freq):\n",
    "        time.sleep(0.5)\n",
    "        generate_beep(500, 300)\n",
    "        s.write('freq %.1f\\r'%(f/1e3)) #frequencies are now defined as f, NOT mw_freq\n",
    "        s.write('rxpowerdbm?\\r') \n",
    "        rx =s.readline()\n",
    "        rxvalues[j] = float(rx)/10 #converting string to float point values\n",
    "    generate_beep(1000, 300)\n",
    "    time.sleep(5)\n",
    "    print \"final:\",s.read_all()\n",
    "print \"j\",j, \"freq\",f, \"rxpower\", rxvalues #'table' of values\n",
    "plot(freq, rxvalues) #tuning curve"
   ]
  },
  {
   "cell_type": "markdown",
   "metadata": {},
   "source": [
    "another option for tuning curve (with sound):"
   ]
  },
  {
   "cell_type": "code",
   "execution_count": null,
   "metadata": {},
   "outputs": [],
   "source": [
    "freq = linspace(9.4e9,9.9e9, 50)\n",
    "rxvalues = zeros(len(freq))\n",
    "txvalues = zeros(len(freq))\n",
    "with serial.Serial(thisport, timeout=3, baudrate=115200) as s:\n",
    "    time.sleep(10) \n",
    "    print \"done.\"\n",
    "    print \"initial:\",s.readline()\n",
    "    s.write('power?\\r')\n",
    "    check_set_power = float(s.readline())/10.\n",
    "    print \"power is set to\",check_set_power\n",
    "    s.write('ampstatus 0\\r') #command amp to be OFF\n",
    "    s.write('ampstatus?\\r') #command to check amp status (ON/OFF)\n",
    "    amp_status = int(s.readline()) #read amp status as an integer\n",
    "    print \"amp status:\",amp_status #print amp status \n",
    "    s.write('rfstatus?\\r') #command to check rf status (ON/OFF)\n",
    "    rf_status = int(s.readline()) #read rf status as an integer\n",
    "    print \"rf status:\",rf_status #print amp status \n",
    "    s.write('wgstatus 1\\r') #switch to DNP mode\n",
    "    s.read_all()\n",
    "    #s.write('wgstatus?\\r') #check wg status\n",
    "    #wg_status1= int(s.readline()) #read wg status as an integer\n",
    "    #print \"wg status1:\", wg_status1 #print wg status\n",
    "    generate_beep(1000,300)\n",
    "    set_power = 10.0\n",
    "    s.write('power %d\\r'%(round(set_power*10)))\n",
    "    s.write('power?\\r')\n",
    "    check_set_power = float(s.readline())/10.\n",
    "    print \"power is set to\",check_set_power\n",
    "    generate_beep(1000, 300) #signal to begin running through frequencies\n",
    "    for j,f in enumerate(freq):\n",
    "        time.sleep(0.5) #time between frequencies\n",
    "        generate_beep(500, 300) #signal frequency change\n",
    "        s.write('freq %.1f\\r'%(mw_freq/1e3)) #changing frequency values to a string for Bridge12 to read\n",
    "        s.write('rxpowerdbm?\\r')\n",
    "        rxvalues[j]=float(s.readline())\n",
    "        s.write('txpowerdbm?\\r')\n",
    "        txvalues[j]=float(s.readline())\n",
    "    generate_beep(1000, 300) #signal when finished running through frequencies\n",
    "    time.sleep(5) #time to process\n",
    "    s.write('wgstatus 0\\r')\n",
    "    #s.write('wgstatus?\\r')\n",
    "    #wg_status0 = int(s.readline())\n",
    "    print \"wg status0:\", wg_status0\n",
    "    print \"final:\",s.read_all() #print any values coming out from \"with\" loop\n",
    "plot(freq, rxvalues, alpha=0.5, label='Rx')\n",
    "plot(freq, txvalues, alpha=0.5, label='Tx')\n",
    "legend()"
   ]
  },
  {
   "cell_type": "markdown",
   "metadata": {},
   "source": [
    "testing the power"
   ]
  },
  {
   "cell_type": "code",
   "execution_count": null,
   "metadata": {},
   "outputs": [],
   "source": [
    "with serial.Serial(thisport, timeout=3, baudrate=115200) as s:\n",
    "    s.read_until('Started\\r\\n') #read this instead of time sleep\n",
    "    s.write('power 0\\r')\n",
    "    time.sleep(10)"
   ]
  },
  {
   "cell_type": "markdown",
   "metadata": {},
   "source": [
    "testing the waveguide switch"
   ]
  },
  {
   "cell_type": "code",
   "execution_count": null,
   "metadata": {},
   "outputs": [],
   "source": [
    "with serial.Serial(thisport, timeout=3, baudrate=115200) as s:\n",
    "    s.read_until('Started\\r\\n')\n",
    "    #s.write('power 100\\r')\n",
    "    for j in range(10):\n",
    "        time.sleep(5)\n",
    "        s.write('wgstatus?\\r')\n",
    "        print \"wgstatus:\",repr(s.readline())\n",
    "    #print \"power:\", int(s.readline())"
   ]
  },
  {
   "cell_type": "markdown",
   "metadata": {},
   "source": [
    "testing frequency"
   ]
  },
  {
   "cell_type": "code",
   "execution_count": null,
   "metadata": {},
   "outputs": [],
   "source": [
    "with serial.Serial(thisport, timeout=3, baudrate=115200) as s:\n",
    "    s.read_until('Started\\r\\n')\n",
    "    time.sleep(10)\n",
    "    generate_beep(700,300)\n",
    "    s.write('freq 9505000.0/r')\n",
    "    generate_beep(500,300)\n",
    "print \"done\""
   ]
  },
  {
   "cell_type": "markdown",
   "metadata": {},
   "source": [
    "testing both power and rfstatus"
   ]
  },
  {
   "cell_type": "code",
   "execution_count": null,
   "metadata": {},
   "outputs": [],
   "source": [
    "with serial.Serial(thisport, timeout=3, baudrate=115200) as s:\n",
    "    s.read_until('Started\\r\\n')\n",
    "    s.write('power 0\\r')\n",
    "    s.write('power?\\r')\n",
    "    print \"power:\", int(s.readline())\n",
    "    generate_beep(1000,300)\n",
    "    s.write('rfstatus 1\\r')\n",
    "    s.write('rfstatus?\\r')\n",
    "    print \"rfstatus:\", int(s.readline())\n",
    "    generate_beep(1000,300)\n",
    "    time.sleep(10)\n",
    "print \"done\""
   ]
  },
  {
   "cell_type": "markdown",
   "metadata": {},
   "source": [
    "messing with lots of on/off commands at once"
   ]
  },
  {
   "cell_type": "code",
   "execution_count": null,
   "metadata": {},
   "outputs": [],
   "source": [
    "with serial.Serial(thisport, timeout=3, baudrate=115200) as s:\n",
    "    s.read_until('Started\\r\\n')\n",
    "    s.write('power 0\\r')\n",
    "    s.write('power?\\r')\n",
    "    print \"power:\", int(s.readline())\n",
    "    generate_beep(1000,300)\n",
    "    time.sleep(5)\n",
    "    s.write('wgstatus 1\\r')\n",
    "    s.write('wgstatus?\\r')\n",
    "    print \"wgstatus:\", int(s.readline())\n",
    "    generate_beep(1000,300)\n",
    "    time.sleep(5)\n",
    "    s.write('ampstatus 1\\r')\n",
    "    s.write('ampstatus?\\r')\n",
    "    print \"ampstatus:\", int(s.readline())\n",
    "    generate_beep(1000,300)\n",
    "    time.sleep(5)\n",
    "    s.write('rfstatus 1\\r')\n",
    "    s.write('rfstatus?\\r')\n",
    "    print \"rfstatus:\", int(s.readline())\n",
    "    generate_beep(1000,300)\n",
    "    time.sleep(10)\n",
    "    s.write('rfstatus 0\\r')\n",
    "    s.write('rfstatus?\\r')\n",
    "    print \"rfstatus:\" int(s.readline)\n",
    "    s.write('ampstatus 0\\r')\n",
    "    s.write('ampstatus?\\r')\n",
    "    print \"ampstatus:\" int(s.readline())\n",
    "print \"done\""
   ]
  },
  {
   "cell_type": "markdown",
   "metadata": {},
   "source": [
    "will be a fully operational tuning curve with power on/off"
   ]
  },
  {
   "cell_type": "code",
   "execution_count": null,
   "metadata": {},
   "outputs": [],
   "source": [
    "freq = linspace(9.845e9,9.855e9, 50)\n",
    "rxvalues = zeros(len(freq))\n",
    "with serial.Serial(thisport, timeout=3, baudrate=115200) as s:\n",
    "    s.read_untill('Started\\r\\n')\n",
    "    s.write('power 100\\r')\n",
    "    s.write('power?\\r')\n",
    "    print \"power:\", int(s.readline())\n",
    "    generate_beep(1000,300)\n",
    "    time.sleep(5)\n",
    "    s.write('wgstatus 1\\r')\n",
    "    s.write('wgstatus?\\r')\n",
    "    print \"wgstatus:\", int(s.readline())\n",
    "    generate_beep(1000,300)\n",
    "    time.sleep(5)\n",
    "    s.write('ampstatus 1\\r')\n",
    "    s.write('ampstatus?\\r')\n",
    "    print \"ampstatus:\", int(s.readline())\n",
    "    generate_beep(1000,300)\n",
    "    time.sleep(5)\n",
    "    s.write('rfstatus 1\\r')\n",
    "    s.write('rfstatus?\\r')\n",
    "    print \"rfstatus:\", int(s.readline())\n",
    "    generate_beep(1000,300)\n",
    "    for j, f in enumerate(freq): \n",
    "        time.sleep(0.5) \n",
    "        generate_beep(500, 300) \n",
    "        s.write('freq %.3f\\r'%(freq/1e3)) \n",
    "        s.write('rxpowerdbm?\\r')\n",
    "        rxvalues[j]=float(s.readline())\n",
    "    generate_beep(1000,300)\n",
    "    time.sleep(5)\n",
    "    s.write('rfstatus 0\\r')\n",
    "    s.write('rfstatus?\\r')\n",
    "    print \"rfstatus:\", int(s.readline())\n",
    "    generate_beep(1000,300)\n",
    "    time.sleep(5)\n",
    "    s.write('ampstatus 0\\r')\n",
    "    s.write('ampstatus?\\r')\n",
    "    print \"ampstatus:\", int(s.readline())\n",
    "    generate_beep(1000,300)\n",
    "    time.sleep(5)\n",
    "    s.write('power 0\\r')\n",
    "    s.write('power?\\r')\n",
    "    print \"power:\", int(s.readline())\n",
    "    generate_beep(1000,300)\n",
    "    time.sleep(5)\n",
    "plot(freq, rxvalues, alpha=1.0, label='Rx')\n",
    "legend()"
   ]
  }
 ],
 "metadata": {
  "kernelspec": {
   "display_name": "Python 2",
   "language": "python",
   "name": "python2"
  },
  "language_info": {
   "codemirror_mode": {
    "name": "ipython",
    "version": 2
   },
   "file_extension": ".py",
   "mimetype": "text/x-python",
   "name": "python",
   "nbconvert_exporter": "python",
   "pygments_lexer": "ipython2",
   "version": "2.7.9"
  }
 },
 "nbformat": 4,
 "nbformat_minor": 2
}
