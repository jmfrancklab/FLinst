{
 "cells": [
  {
   "cell_type": "code",
   "execution_count": 1,
   "metadata": {},
   "outputs": [
    {
     "name": "stdout",
     "output_type": "stream",
     "text": [
      "Populating the interactive namespace from numpy and matplotlib\n",
      "Populating the interactive namespace from numpy and matplotlib\n",
      "These are the instruments available:\n",
      "GW INSTEK,AFG-2225,SN:GEQ904866,V2.05\n",
      "\n",
      "\n",
      "GW,GDS-3254,GEQ110185,V1.25\n",
      "\n",
      "done printing available instruments\n",
      "GW,GDS-3254,GEQ110185,V1.25\n",
      "\n",
      "GW INSTEK,AFG-2225,SN:GEQ904866,V2.05\n",
      "\n"
     ]
    }
   ],
   "source": [
    "%pylab inline\n",
    "%load_ext pyspecdata.ipy\n",
    "from Instruments import *\n",
    "from pyspecdata import *\n",
    "import time\n",
    "from serial.tools.list_ports import comports\n",
    "import serial\n",
    "\n",
    "print \"These are the instruments available:\"\n",
    "SerialInstrument(None)\n",
    "print \"done printing available instruments\"\n",
    "\n",
    "with SerialInstrument('GDS-3254') as s:\n",
    "    print s.respond('*idn?')\n",
    "    \n",
    "with SerialInstrument('AFG-2225') as s:\n",
    "    print s.respond('*idn?')"
   ]
  },
  {
   "cell_type": "code",
   "execution_count": null,
   "metadata": {
    "collapsed": true
   },
   "outputs": [],
   "source": []
  }
 ],
 "metadata": {
  "kernelspec": {
   "display_name": "Python 2",
   "language": "python",
   "name": "python2"
  },
  "language_info": {
   "codemirror_mode": {
    "name": "ipython",
    "version": 2
   },
   "file_extension": ".py",
   "mimetype": "text/x-python",
   "name": "python",
   "nbconvert_exporter": "python",
   "pygments_lexer": "ipython2",
   "version": "2.7.13"
  }
 },
 "nbformat": 4,
 "nbformat_minor": 2
}
