{
 "cells": [
  {
   "cell_type": "code",
   "execution_count": 1,
   "metadata": {
    "collapsed": true
   },
   "outputs": [],
   "source": [
    "from serial.tools.list_ports import comports, grep\n",
    "import serial"
   ]
  },
  {
   "cell_type": "code",
   "execution_count": 2,
   "metadata": {},
   "outputs": [
    {
     "data": {
      "text/plain": [
       "[('COM1', 'Communications Port (COM1)', 'ACPI\\\\PNP0501\\\\1'),\n",
       " ('COM3', 'USB Serial Device (COM3)', 'USB VID:PID=2184:0006 SNR=GEQ110185'),\n",
       " ('COM4', 'AFG CDC Device (COM4)', 'USB VID:PID=2184:001C SNR=GEQ904866')]"
      ]
     },
     "execution_count": 2,
     "metadata": {},
     "output_type": "execute_result"
    }
   ],
   "source": [
    "[j for j in comports()]"
   ]
  },
  {
   "cell_type": "code",
   "execution_count": 3,
   "metadata": {},
   "outputs": [
    {
     "data": {
      "text/plain": [
       "'COM3'"
      ]
     },
     "execution_count": 3,
     "metadata": {},
     "output_type": "execute_result"
    }
   ],
   "source": [
    "dev_name = [j[0] for j in grep(\"Device\")][0]\n",
    "dev_name"
   ]
  },
  {
   "cell_type": "code",
   "execution_count": 4,
   "metadata": {},
   "outputs": [
    {
     "name": "stdout",
     "output_type": "stream",
     "text": [
      "looking at COM1\n",
      "response to IDN: \n",
      "looking at COM3\n",
      "response to IDN: GW,GDS-3254,GEQ110185,V1.25\n",
      "\n",
      "looking at COM4\n",
      "response to IDN: GW INSTEK,AFG-2225,SN:GEQ904866,V2.05\n",
      "\n"
     ]
    }
   ],
   "source": [
    "for dev_name,_,_ in comports():\n",
    "    with serial.Serial(dev_name) as s:\n",
    "        s.timeout = 1\n",
    "        print \"looking at\",s.name\n",
    "        s.write('*idn?\\n')\n",
    "        print \"response to IDN:\",s.readline()\n"
   ]
  },
  {
   "cell_type": "code",
   "execution_count": null,
   "metadata": {
    "collapsed": true
   },
   "outputs": [],
   "source": []
  },
  {
   "cell_type": "code",
   "execution_count": null,
   "metadata": {
    "collapsed": true
   },
   "outputs": [],
   "source": []
  },
  {
   "cell_type": "code",
   "execution_count": null,
   "metadata": {
    "collapsed": true
   },
   "outputs": [],
   "source": []
  }
 ],
 "metadata": {
  "kernelspec": {
   "display_name": "Python 2",
   "language": "python",
   "name": "python2"
  },
  "language_info": {
   "codemirror_mode": {
    "name": "ipython",
    "version": 2
   },
   "file_extension": ".py",
   "mimetype": "text/x-python",
   "name": "python",
   "nbconvert_exporter": "python",
   "pygments_lexer": "ipython2",
   "version": "2.7.13"
  }
 },
 "nbformat": 4,
 "nbformat_minor": 2
}
