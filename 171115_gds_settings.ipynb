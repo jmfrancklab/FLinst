{
 "cells": [
  {
   "cell_type": "code",
   "execution_count": 1,
   "metadata": {},
   "outputs": [
    {
     "name": "stdout",
     "output_type": "stream",
     "text": [
      "These are the instruments available:\n",
      "GW INSTEK,AFG-2225,SN:GEQ904866,V2.05\n",
      "\n",
      "\n",
      "GW,GDS-3254,GEQ110185,V1.25\n",
      "\n",
      "done printing available instruments\n",
      "port dict has no results, so searching for instruments\n",
      "GW,GDS-3254,GEQ110185,V1.25\n",
      "\n",
      "GW INSTEK,AFG-2225,SN:GEQ904866,V2.05\n",
      "\n"
     ]
    }
   ],
   "source": [
    "from Instruments import *\n",
    "from pyspecdata import *\n",
    "import time\n",
    "from serial.tools.list_ports import comports\n",
    "import serial\n",
    "from scipy import signal\n",
    "\n",
    "fl = figlist_var()\n",
    "\n",
    "print \"These are the instruments available:\"\n",
    "SerialInstrument(None)\n",
    "print \"done printing available instruments\"\n",
    "\n",
    "with SerialInstrument('GDS-3254') as s:\n",
    "    print s.respond('*idn?')\n",
    "    \n",
    "with SerialInstrument('AFG-2225') as s:\n",
    "    print s.respond('*idn?')"
   ]
  },
  {
   "cell_type": "code",
   "execution_count": null,
   "metadata": {},
   "outputs": [],
   "source": [
    "with GDS_scope() as g:\n",
    "    g.reset()\n",
    "    print \"Query time scale in sec/div\"\n",
    "    print g.respond(':TIM:SCAL?')\n",
    "    ts = 100e-9\n",
    "    ts_str = '%0.6e'%ts\n",
    "    print \"Setting time scale to %s sec/div\"%ts_str\n",
    "    g.write(':TIM:SCAL ',ts)\n",
    "    print g.demand(':TIM:SCAL?',ts_str)"
   ]
  },
  {
   "cell_type": "code",
   "execution_count": 5,
   "metadata": {},
   "outputs": [
    {
     "name": "stdout",
     "output_type": "stream",
     "text": [
      "Attempt to call timescale f'n\n",
      "Query time scale in sec/div\n",
      "1.000000e-05\n",
      "\n",
      "Setting time scale to  1.000000e-07 sec/div\n",
      "Time scale (sec/div) is set to\n",
      "1.000000e-07\n",
      "\n"
     ]
    }
   ],
   "source": [
    "with GDS_scope() as g:\n",
    "    g.reset()\n",
    "    print \"Attempt to call timescale f'n\"\n",
    "    ts = 100e-9\n",
    "    g.timscal(ts)\n",
    "    "
   ]
  },
  {
   "cell_type": "code",
   "execution_count": null,
   "metadata": {
    "collapsed": true
   },
   "outputs": [],
   "source": []
  }
 ],
 "metadata": {
  "kernelspec": {
   "display_name": "Python 2",
   "language": "python",
   "name": "python2"
  },
  "language_info": {
   "codemirror_mode": {
    "name": "ipython",
    "version": 2
   },
   "file_extension": ".py",
   "mimetype": "text/x-python",
   "name": "python",
   "nbconvert_exporter": "python",
   "pygments_lexer": "ipython2",
   "version": "2.7.13"
  }
 },
 "nbformat": 4,
 "nbformat_minor": 2
}
